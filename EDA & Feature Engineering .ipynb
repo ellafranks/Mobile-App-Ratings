{
 "cells": [
  {
   "cell_type": "markdown",
   "metadata": {},
   "source": [
    "# Mobile App Store (7200 apps) \n",
    "\n",
    "**Data source:**\n",
    "\n",
    "App user ratings plays an important role in app revenue. \n",
    "\n",
    "If your app has low ratings, its search position tends to be low. The top 10 rated apps gather 90% of category revenue, all the rest compete for the remaining 10 percent.\n",
    "\n",
    "\n",
    "*With data extracted from the itunes data from Kaggle, this project explores the non-language and language features that predict app user ratings.*\n",
    "\n",
    "\n",
    "**Project Focus:**\n",
    "- EDA and visualisation\n",
    "- Feature engineering"
   ]
  },
  {
   "cell_type": "code",
   "execution_count": 968,
   "metadata": {
    "ExecuteTime": {
     "end_time": "2020-03-27T18:07:45.495532Z",
     "start_time": "2020-03-27T18:07:45.486274Z"
    }
   },
   "outputs": [],
   "source": [
    "import pandas as pd\n",
    "import re\n",
    "import numpy as np"
   ]
  },
  {
   "cell_type": "code",
   "execution_count": 969,
   "metadata": {
    "ExecuteTime": {
     "end_time": "2020-03-27T18:07:45.640222Z",
     "start_time": "2020-03-27T18:07:45.630643Z"
    }
   },
   "outputs": [],
   "source": [
    "import warnings\n",
    "warnings.filterwarnings('ignore')"
   ]
  },
  {
   "cell_type": "code",
   "execution_count": 970,
   "metadata": {
    "ExecuteTime": {
     "end_time": "2020-03-27T18:07:45.782681Z",
     "start_time": "2020-03-27T18:07:45.778077Z"
    }
   },
   "outputs": [],
   "source": [
    "from hurry.filesize import size"
   ]
  },
  {
   "cell_type": "code",
   "execution_count": 971,
   "metadata": {
    "ExecuteTime": {
     "end_time": "2020-03-27T18:07:45.919377Z",
     "start_time": "2020-03-27T18:07:45.911569Z"
    }
   },
   "outputs": [],
   "source": [
    "import seaborn as sns\n",
    "import matplotlib.pyplot as plt"
   ]
  },
  {
   "cell_type": "code",
   "execution_count": 972,
   "metadata": {
    "ExecuteTime": {
     "end_time": "2020-03-27T18:07:46.024507Z",
     "start_time": "2020-03-27T18:07:46.017128Z"
    }
   },
   "outputs": [],
   "source": [
    "import sys\n",
    "pd.options.display.encoding = sys.stdout.encoding"
   ]
  },
  {
   "cell_type": "markdown",
   "metadata": {},
   "source": [
    "# EDA"
   ]
  },
  {
   "cell_type": "code",
   "execution_count": 973,
   "metadata": {
    "ExecuteTime": {
     "end_time": "2020-03-27T18:07:46.337920Z",
     "start_time": "2020-03-27T18:07:46.232137Z"
    }
   },
   "outputs": [],
   "source": [
    "df = pd.read_csv('AppleStore.csv', index_col=[0]).reset_index(drop=True)"
   ]
  },
  {
   "cell_type": "code",
   "execution_count": 974,
   "metadata": {
    "ExecuteTime": {
     "end_time": "2020-03-27T18:07:46.711102Z",
     "start_time": "2020-03-27T18:07:46.359678Z"
    }
   },
   "outputs": [],
   "source": [
    "description = pd.read_csv('appleStore_description.csv')"
   ]
  },
  {
   "cell_type": "code",
   "execution_count": 975,
   "metadata": {
    "ExecuteTime": {
     "end_time": "2020-03-27T18:07:46.731801Z",
     "start_time": "2020-03-27T18:07:46.714896Z"
    }
   },
   "outputs": [],
   "source": [
    "df = pd.merge(df, description.app_desc, left_index=True, right_index=True)"
   ]
  },
  {
   "cell_type": "code",
   "execution_count": 976,
   "metadata": {
    "ExecuteTime": {
     "end_time": "2020-03-27T18:07:46.746492Z",
     "start_time": "2020-03-27T18:07:46.738342Z"
    }
   },
   "outputs": [
    {
     "name": "stdout",
     "output_type": "stream",
     "text": [
      "['id', 'track_name', 'size_bytes', 'currency', 'price', 'rating_count_tot', 'rating_count_ver', 'user_rating', 'user_rating_ver', 'ver', 'cont_rating', 'prime_genre', 'sup_devices.num', 'ipadSc_urls.num', 'lang.num', 'vpp_lic', 'app_desc']\n"
     ]
    }
   ],
   "source": [
    "print(list(df.columns))"
   ]
  },
  {
   "cell_type": "code",
   "execution_count": 977,
   "metadata": {
    "ExecuteTime": {
     "end_time": "2020-03-27T18:07:46.822390Z",
     "start_time": "2020-03-27T18:07:46.794588Z"
    }
   },
   "outputs": [
    {
     "data": {
      "text/html": [
       "<div>\n",
       "<style scoped>\n",
       "    .dataframe tbody tr th:only-of-type {\n",
       "        vertical-align: middle;\n",
       "    }\n",
       "\n",
       "    .dataframe tbody tr th {\n",
       "        vertical-align: top;\n",
       "    }\n",
       "\n",
       "    .dataframe thead th {\n",
       "        text-align: right;\n",
       "    }\n",
       "</style>\n",
       "<table border=\"1\" class=\"dataframe\">\n",
       "  <thead>\n",
       "    <tr style=\"text-align: right;\">\n",
       "      <th></th>\n",
       "      <th>id</th>\n",
       "      <th>track_name</th>\n",
       "      <th>size_bytes</th>\n",
       "      <th>currency</th>\n",
       "      <th>price</th>\n",
       "      <th>rating_count_tot</th>\n",
       "      <th>rating_count_ver</th>\n",
       "      <th>user_rating</th>\n",
       "      <th>user_rating_ver</th>\n",
       "      <th>ver</th>\n",
       "      <th>cont_rating</th>\n",
       "      <th>prime_genre</th>\n",
       "      <th>sup_devices.num</th>\n",
       "      <th>ipadSc_urls.num</th>\n",
       "      <th>lang.num</th>\n",
       "      <th>vpp_lic</th>\n",
       "      <th>app_desc</th>\n",
       "    </tr>\n",
       "  </thead>\n",
       "  <tbody>\n",
       "    <tr>\n",
       "      <td>0</td>\n",
       "      <td>281656475</td>\n",
       "      <td>PAC-MAN Premium</td>\n",
       "      <td>100788224</td>\n",
       "      <td>USD</td>\n",
       "      <td>3.99</td>\n",
       "      <td>21292</td>\n",
       "      <td>26</td>\n",
       "      <td>4.0</td>\n",
       "      <td>4.5</td>\n",
       "      <td>6.3.5</td>\n",
       "      <td>4+</td>\n",
       "      <td>Games</td>\n",
       "      <td>38</td>\n",
       "      <td>5</td>\n",
       "      <td>10</td>\n",
       "      <td>1</td>\n",
       "      <td>SAVE 20%, now only $3.99 for a limited time!\\n...</td>\n",
       "    </tr>\n",
       "    <tr>\n",
       "      <td>1</td>\n",
       "      <td>281796108</td>\n",
       "      <td>Evernote - stay organized</td>\n",
       "      <td>158578688</td>\n",
       "      <td>USD</td>\n",
       "      <td>0.00</td>\n",
       "      <td>161065</td>\n",
       "      <td>26</td>\n",
       "      <td>4.0</td>\n",
       "      <td>3.5</td>\n",
       "      <td>8.2.2</td>\n",
       "      <td>4+</td>\n",
       "      <td>Productivity</td>\n",
       "      <td>37</td>\n",
       "      <td>5</td>\n",
       "      <td>23</td>\n",
       "      <td>1</td>\n",
       "      <td>Let Evernote change the way you organize your ...</td>\n",
       "    </tr>\n",
       "    <tr>\n",
       "      <td>2</td>\n",
       "      <td>281940292</td>\n",
       "      <td>WeatherBug - Local Weather, Radar, Maps, Alerts</td>\n",
       "      <td>100524032</td>\n",
       "      <td>USD</td>\n",
       "      <td>0.00</td>\n",
       "      <td>188583</td>\n",
       "      <td>2822</td>\n",
       "      <td>3.5</td>\n",
       "      <td>4.5</td>\n",
       "      <td>5.0.0</td>\n",
       "      <td>4+</td>\n",
       "      <td>Weather</td>\n",
       "      <td>37</td>\n",
       "      <td>5</td>\n",
       "      <td>3</td>\n",
       "      <td>1</td>\n",
       "      <td>Download the most popular free weather app pow...</td>\n",
       "    </tr>\n",
       "    <tr>\n",
       "      <td>3</td>\n",
       "      <td>282614216</td>\n",
       "      <td>eBay: Best App to Buy, Sell, Save! Online Shop...</td>\n",
       "      <td>128512000</td>\n",
       "      <td>USD</td>\n",
       "      <td>0.00</td>\n",
       "      <td>262241</td>\n",
       "      <td>649</td>\n",
       "      <td>4.0</td>\n",
       "      <td>4.5</td>\n",
       "      <td>5.10.0</td>\n",
       "      <td>12+</td>\n",
       "      <td>Shopping</td>\n",
       "      <td>37</td>\n",
       "      <td>5</td>\n",
       "      <td>9</td>\n",
       "      <td>1</td>\n",
       "      <td>The eBay app is the best way to find anything ...</td>\n",
       "    </tr>\n",
       "    <tr>\n",
       "      <td>4</td>\n",
       "      <td>282935706</td>\n",
       "      <td>Bible</td>\n",
       "      <td>92774400</td>\n",
       "      <td>USD</td>\n",
       "      <td>0.00</td>\n",
       "      <td>985920</td>\n",
       "      <td>5320</td>\n",
       "      <td>4.5</td>\n",
       "      <td>5.0</td>\n",
       "      <td>7.5.1</td>\n",
       "      <td>4+</td>\n",
       "      <td>Reference</td>\n",
       "      <td>37</td>\n",
       "      <td>5</td>\n",
       "      <td>45</td>\n",
       "      <td>1</td>\n",
       "      <td>On more than 250 million devices around the wo...</td>\n",
       "    </tr>\n",
       "  </tbody>\n",
       "</table>\n",
       "</div>"
      ],
      "text/plain": [
       "          id                                         track_name  size_bytes  \\\n",
       "0  281656475                                    PAC-MAN Premium   100788224   \n",
       "1  281796108                          Evernote - stay organized   158578688   \n",
       "2  281940292    WeatherBug - Local Weather, Radar, Maps, Alerts   100524032   \n",
       "3  282614216  eBay: Best App to Buy, Sell, Save! Online Shop...   128512000   \n",
       "4  282935706                                              Bible    92774400   \n",
       "\n",
       "  currency  price  rating_count_tot  rating_count_ver  user_rating  \\\n",
       "0      USD   3.99             21292                26          4.0   \n",
       "1      USD   0.00            161065                26          4.0   \n",
       "2      USD   0.00            188583              2822          3.5   \n",
       "3      USD   0.00            262241               649          4.0   \n",
       "4      USD   0.00            985920              5320          4.5   \n",
       "\n",
       "   user_rating_ver     ver cont_rating   prime_genre  sup_devices.num  \\\n",
       "0              4.5   6.3.5          4+         Games               38   \n",
       "1              3.5   8.2.2          4+  Productivity               37   \n",
       "2              4.5   5.0.0          4+       Weather               37   \n",
       "3              4.5  5.10.0         12+      Shopping               37   \n",
       "4              5.0   7.5.1          4+     Reference               37   \n",
       "\n",
       "   ipadSc_urls.num  lang.num  vpp_lic  \\\n",
       "0                5        10        1   \n",
       "1                5        23        1   \n",
       "2                5         3        1   \n",
       "3                5         9        1   \n",
       "4                5        45        1   \n",
       "\n",
       "                                            app_desc  \n",
       "0  SAVE 20%, now only $3.99 for a limited time!\\n...  \n",
       "1  Let Evernote change the way you organize your ...  \n",
       "2  Download the most popular free weather app pow...  \n",
       "3  The eBay app is the best way to find anything ...  \n",
       "4  On more than 250 million devices around the wo...  "
      ]
     },
     "execution_count": 977,
     "metadata": {},
     "output_type": "execute_result"
    }
   ],
   "source": [
    "df.head()"
   ]
  },
  {
   "cell_type": "code",
   "execution_count": 978,
   "metadata": {
    "ExecuteTime": {
     "end_time": "2020-03-27T18:07:47.779968Z",
     "start_time": "2020-03-27T18:07:47.772722Z"
    }
   },
   "outputs": [
    {
     "data": {
      "text/plain": [
       "(7197, 17)"
      ]
     },
     "execution_count": 978,
     "metadata": {},
     "output_type": "execute_result"
    }
   ],
   "source": [
    "df.shape"
   ]
  },
  {
   "cell_type": "code",
   "execution_count": 979,
   "metadata": {
    "ExecuteTime": {
     "end_time": "2020-03-27T18:07:48.080287Z",
     "start_time": "2020-03-27T18:07:47.894254Z"
    }
   },
   "outputs": [
    {
     "name": "stdout",
     "output_type": "stream",
     "text": [
      "There are 0 duplicates found in this data\n",
      "There are 0 nulls found in this data\n"
     ]
    }
   ],
   "source": [
    "print('There are {} duplicates found in this data'.format(df.duplicated().sum()))\n",
    "print('There are {} nulls found in this data'.format(df.isnull().sum().sum()))"
   ]
  },
  {
   "cell_type": "markdown",
   "metadata": {},
   "source": [
    "#### Convert bytes into a more readable format of megabytes "
   ]
  },
  {
   "cell_type": "code",
   "execution_count": 980,
   "metadata": {
    "ExecuteTime": {
     "end_time": "2020-03-27T18:07:48.133006Z",
     "start_time": "2020-03-27T18:07:48.096260Z"
    }
   },
   "outputs": [],
   "source": [
    "df['mega_bytes'] = df.size_bytes.apply(lambda x: size(x)\\\n",
    "                            .replace('M', ''))\\\n",
    "                            .apply(lambda x: (x.replace('G', '000')) if 'G' in x else x)\\\n",
    "                            .apply(lambda x: (int((x.replace('K', '')))/1000) if 'K' in x else x)\\\n",
    "                            .astype(float)\n",
    "                            "
   ]
  },
  {
   "cell_type": "code",
   "execution_count": 981,
   "metadata": {
    "ExecuteTime": {
     "end_time": "2020-03-27T18:07:48.215673Z",
     "start_time": "2020-03-27T18:07:48.200113Z"
    }
   },
   "outputs": [],
   "source": [
    "df.drop('size_bytes', axis=1, inplace=True)"
   ]
  },
  {
   "cell_type": "markdown",
   "metadata": {},
   "source": [
    "**Increasing memory (MB) will increase the user ratings. This effect becomes less obvious in ratings 4.5 and above**"
   ]
  },
  {
   "cell_type": "code",
   "execution_count": 982,
   "metadata": {
    "ExecuteTime": {
     "end_time": "2020-03-27T18:07:49.357283Z",
     "start_time": "2020-03-27T18:07:48.365663Z"
    }
   },
   "outputs": [
    {
     "data": {
      "image/png": "[encoded data removed]",
      "text/plain": [
       "<Figure size 720x360 with 1 Axes>"
      ]
     },
     "metadata": {
      "needs_background": "light"
     },
     "output_type": "display_data"
    }
   ],
   "source": [
    "fig, ax = plt.subplots(figsize=(10,5))\n",
    "sns.barplot(x=df.user_rating_ver, y=df.mega_bytes)\n",
    "ax.set_xticklabels(ax.get_xticklabels(), rotation=40, ha=\"right\")\n",
    "plt.tight_layout()\n",
    "plt.show()"
   ]
  },
  {
   "cell_type": "markdown",
   "metadata": {
    "ExecuteTime": {
     "end_time": "2020-03-27T16:56:41.779579Z",
     "start_time": "2020-03-27T16:56:41.769595Z"
    }
   },
   "source": [
    "**Medical, Game and Education apps have largest average sizes (MB)**"
   ]
  },
  {
   "cell_type": "code",
   "execution_count": 983,
   "metadata": {
    "ExecuteTime": {
     "end_time": "2020-03-27T18:07:50.843210Z",
     "start_time": "2020-03-27T18:07:49.362167Z"
    }
   },
   "outputs": [
    {
     "data": {
      "image/png": "[encoded data removed]",
      "text/plain": [
       "<Figure size 720x360 with 1 Axes>"
      ]
     },
     "metadata": {
      "needs_background": "light"
     },
     "output_type": "display_data"
    }
   ],
   "source": [
    "temp = df.groupby('prime_genre')[['mega_bytes']].aggregate(np.mean).reset_index().sort_values('mega_bytes', ascending=False)\n",
    "\n",
    "fig, ax = plt.subplots(figsize=(10,5))\n",
    "sns.barplot(x=df.prime_genre, y=df.mega_bytes, order=temp['prime_genre'])\n",
    "ax.set_xticklabels(ax.get_xticklabels(), rotation=40, ha=\"right\")\n",
    "plt.tight_layout()\n",
    "plt.show()"
   ]
  },
  {
   "cell_type": "markdown",
   "metadata": {},
   "source": [
    "#### Price distribution "
   ]
  },
  {
   "cell_type": "code",
   "execution_count": 984,
   "metadata": {
    "ExecuteTime": {
     "end_time": "2020-03-27T18:07:51.543072Z",
     "start_time": "2020-03-27T18:07:50.858598Z"
    }
   },
   "outputs": [
    {
     "data": {
      "image/png": "[encoded data removed]",
      "text/plain": [
       "<Figure size 576x360 with 1 Axes>"
      ]
     },
     "metadata": {
      "needs_background": "light"
     },
     "output_type": "display_data"
    }
   ],
   "source": [
    "fig, ax = plt.subplots(figsize = (8,5))\n",
    "df[df['price']>0].price.hist(bins = 100, ax = ax);\n",
    "ax.set_yscale(\"log\")\n",
    "ax.set_title(\"Price of App ($)\")\n",
    "plt.show()"
   ]
  },
  {
   "cell_type": "markdown",
   "metadata": {},
   "source": [
    "Here, we can see a number of outliers. I may consider removing them later on during modelling. ($30 and above)."
   ]
  },
  {
   "cell_type": "code",
   "execution_count": 985,
   "metadata": {
    "ExecuteTime": {
     "end_time": "2020-03-27T18:07:51.560269Z",
     "start_time": "2020-03-27T18:07:51.549877Z"
    }
   },
   "outputs": [],
   "source": [
    "temp = df[df['price'] <= 30]"
   ]
  },
  {
   "cell_type": "code",
   "execution_count": 986,
   "metadata": {
    "ExecuteTime": {
     "end_time": "2020-03-27T18:07:52.211551Z",
     "start_time": "2020-03-27T18:07:51.572287Z"
    }
   },
   "outputs": [
    {
     "data": {
      "image/png": "[encoded data removed]",
      "text/plain": [
       "<Figure size 576x360 with 1 Axes>"
      ]
     },
     "metadata": {
      "needs_background": "light"
     },
     "output_type": "display_data"
    }
   ],
   "source": [
    "#what the distribution would look like if outliers were removed. \n",
    "fig, ax = plt.subplots(figsize = (8,5))\n",
    "temp[temp['price']>0].price.hist(bins = 100, ax = ax);\n",
    "ax.set_yscale(\"log\")\n",
    "ax.set_title(\"Price of App ($)\")\n",
    "plt.show()"
   ]
  },
  {
   "cell_type": "code",
   "execution_count": 987,
   "metadata": {
    "ExecuteTime": {
     "end_time": "2020-03-27T18:07:52.233844Z",
     "start_time": "2020-03-27T18:07:52.216491Z"
    }
   },
   "outputs": [
    {
     "name": "stdout",
     "output_type": "stream",
     "text": [
      "4056 of the total 7197 are free apps\n"
     ]
    }
   ],
   "source": [
    "print('{} of the total {} are free apps'.format(df[df['price'] == 0].shape[0],df.shape[0]))"
   ]
  },
  {
   "cell_type": "markdown",
   "metadata": {},
   "source": [
    "Extract whether the app is free or not"
   ]
  },
  {
   "cell_type": "code",
   "execution_count": 988,
   "metadata": {
    "ExecuteTime": {
     "end_time": "2020-03-27T18:07:52.252699Z",
     "start_time": "2020-03-27T18:07:52.239089Z"
    }
   },
   "outputs": [],
   "source": [
    "df['free_app'] = df.price.apply(lambda x: 1 if x == 0 else 0)"
   ]
  },
  {
   "cell_type": "markdown",
   "metadata": {},
   "source": [
    "**The free apps are more likely to have higher user ratings**"
   ]
  },
  {
   "cell_type": "code",
   "execution_count": 989,
   "metadata": {
    "ExecuteTime": {
     "end_time": "2020-03-27T18:07:52.494536Z",
     "start_time": "2020-03-27T18:07:52.263529Z"
    }
   },
   "outputs": [
    {
     "data": {
      "image/png": "[encoded data removed]",
      "text/plain": [
       "<Figure size 432x288 with 1 Axes>"
      ]
     },
     "metadata": {
      "needs_background": "light"
     },
     "output_type": "display_data"
    }
   ],
   "source": [
    "df.groupby('user_rating_ver')[['free_app']].count().sort_values(by='free_app', ascending=False).plot(kind='barh');"
   ]
  },
  {
   "cell_type": "markdown",
   "metadata": {},
   "source": [
    "#### Rating counts for all and current versions"
   ]
  },
  {
   "cell_type": "code",
   "execution_count": 990,
   "metadata": {
    "ExecuteTime": {
     "end_time": "2020-03-27T18:07:55.343241Z",
     "start_time": "2020-03-27T18:07:52.501843Z"
    }
   },
   "outputs": [
    {
     "data": {
      "image/png": "[encoded data removed]",
      "text/plain": [
       "<Figure size 1080x360 with 2 Axes>"
      ]
     },
     "metadata": {
      "needs_background": "light"
     },
     "output_type": "display_data"
    }
   ],
   "source": [
    "fig, ax = plt.subplots(ncols = 2, figsize = (15,5))\n",
    "df[df['rating_count_tot']>0].rating_count_tot.hist(bins = 100, ax = ax[0]);\n",
    "df[df['rating_count_ver']>0].rating_count_ver.hist(bins = 100, ax = ax[1]);\n",
    "\n",
    "ax[0].set_yscale(\"log\")\n",
    "ax[1].set_yscale(\"log\")\n",
    "\n",
    "\n",
    "ax[0].set_title(\"Rating count for all versions\")\n",
    "ax[1].set_title(\"Rating count for current version\")\n",
    "plt.show()"
   ]
  },
  {
   "cell_type": "markdown",
   "metadata": {},
   "source": [
    "#### Avg ratings for all and current versions "
   ]
  },
  {
   "cell_type": "markdown",
   "metadata": {},
   "source": [
    "**Avg ratings grow exponentially in size until 4.5** \n",
    "\n",
    "**Avg 5 ratings is under half of the 4.5 ratings**"
   ]
  },
  {
   "cell_type": "code",
   "execution_count": 991,
   "metadata": {
    "ExecuteTime": {
     "end_time": "2020-03-27T18:07:56.063723Z",
     "start_time": "2020-03-27T18:07:55.348080Z"
    }
   },
   "outputs": [
    {
     "data": {
      "image/png": "[encoded data removed]",
      "text/plain": [
       "<Figure size 1080x360 with 2 Axes>"
      ]
     },
     "metadata": {
      "needs_background": "light"
     },
     "output_type": "display_data"
    }
   ],
   "source": [
    "fig, ax = plt.subplots(ncols = 2, figsize = (15,5))\n",
    "df[df['user_rating']>0].user_rating.hist(bins = 100, ax = ax[0]);\n",
    "df[df['user_rating_ver']>0].user_rating_ver.hist(bins = 100, ax = ax[1]);\n",
    "\n",
    "ax[0].set_title(\"Avg user_rating for all versions\")\n",
    "ax[1].set_title(\"Avg user_rating for current versions\")\n",
    "plt.show()"
   ]
  },
  {
   "cell_type": "code",
   "execution_count": 992,
   "metadata": {
    "ExecuteTime": {
     "end_time": "2020-03-27T18:07:56.081533Z",
     "start_time": "2020-03-27T18:07:56.068669Z"
    }
   },
   "outputs": [
    {
     "name": "stdout",
     "output_type": "stream",
     "text": [
      "There are 929 cases where NO ratings were made accross any app version\n"
     ]
    }
   ],
   "source": [
    "print('There are {} cases where NO ratings were made accross any app version'\n",
    "      .format(df[(df['rating_count_tot'] == 0) & (df['user_rating'] == 0)].shape[0]))"
   ]
  },
  {
   "cell_type": "markdown",
   "metadata": {},
   "source": [
    "**In the instances of 0 ratings accross different app versions:**\n",
    "\n",
    "- This could be due to the poor quality of the app, no rating feature or they were foreign; the API may not have picked up their ratings. "
   ]
  },
  {
   "cell_type": "markdown",
   "metadata": {},
   "source": [
    "#### App Version"
   ]
  },
  {
   "cell_type": "markdown",
   "metadata": {},
   "source": [
    "Drop all non-digits "
   ]
  },
  {
   "cell_type": "code",
   "execution_count": 993,
   "metadata": {
    "ExecuteTime": {
     "end_time": "2020-03-27T18:07:56.117179Z",
     "start_time": "2020-03-27T18:07:56.092352Z"
    }
   },
   "outputs": [],
   "source": [
    "df.ver = df.ver.apply(lambda x: re.sub('[^0-9.]', '', str(x)))"
   ]
  },
  {
   "cell_type": "markdown",
   "metadata": {},
   "source": [
    "Most common versions have a 1 as their major component (first digit)"
   ]
  },
  {
   "cell_type": "code",
   "execution_count": 994,
   "metadata": {
    "ExecuteTime": {
     "end_time": "2020-03-27T18:07:56.138779Z",
     "start_time": "2020-03-27T18:07:56.125029Z"
    }
   },
   "outputs": [
    {
     "data": {
      "text/plain": [
       "1.0      317\n",
       "1.1      267\n",
       "1.2      218\n",
       "1.0.0    187\n",
       "1.0.1    180\n",
       "Name: ver, dtype: int64"
      ]
     },
     "execution_count": 994,
     "metadata": {},
     "output_type": "execute_result"
    }
   ],
   "source": [
    "df.ver.value_counts().head()"
   ]
  },
  {
   "cell_type": "markdown",
   "metadata": {},
   "source": [
    "**1.5.5 version is most expensive on avg**"
   ]
  },
  {
   "cell_type": "code",
   "execution_count": 995,
   "metadata": {
    "ExecuteTime": {
     "end_time": "2020-03-27T18:07:56.499202Z",
     "start_time": "2020-03-27T18:07:56.143489Z"
    }
   },
   "outputs": [
    {
     "data": {
      "image/png": "[encoded data removed]",
      "text/plain": [
       "<Figure size 432x288 with 1 Axes>"
      ]
     },
     "metadata": {
      "needs_background": "light"
     },
     "output_type": "display_data"
    }
   ],
   "source": [
    "df.groupby('ver')[['price']].mean().sort_values(by='price', ascending=False).head(20).plot(kind='barh');"
   ]
  },
  {
   "cell_type": "markdown",
   "metadata": {
    "ExecuteTime": {
     "end_time": "2020-03-25T10:21:17.478122Z",
     "start_time": "2020-03-25T10:21:17.436341Z"
    }
   },
   "source": [
    "#### Content Age rating "
   ]
  },
  {
   "cell_type": "markdown",
   "metadata": {},
   "source": [
    "Rename for clearer age buckets"
   ]
  },
  {
   "cell_type": "code",
   "execution_count": 996,
   "metadata": {
    "ExecuteTime": {
     "end_time": "2020-03-27T18:07:56.518735Z",
     "start_time": "2020-03-27T18:07:56.507901Z"
    }
   },
   "outputs": [],
   "source": [
    "df['cont_rating'] = df['cont_rating']\\\n",
    "                    .apply({'4+':'4-8', '9+':'9-11', '12+': '12-16', '17+': '17+'}.get)"
   ]
  },
  {
   "cell_type": "markdown",
   "metadata": {},
   "source": [
    "Most app ratings appear to be made for the lowest age range (4-8 years)"
   ]
  },
  {
   "cell_type": "code",
   "execution_count": 997,
   "metadata": {
    "ExecuteTime": {
     "end_time": "2020-03-27T18:07:56.711987Z",
     "start_time": "2020-03-27T18:07:56.527745Z"
    }
   },
   "outputs": [
    {
     "data": {
      "image/png": "[encoded data removed]",
      "text/plain": [
       "<Figure size 432x288 with 1 Axes>"
      ]
     },
     "metadata": {
      "needs_background": "light"
     },
     "output_type": "display_data"
    }
   ],
   "source": [
    "df['cont_rating'].value_counts().plot(kind='barh');"
   ]
  },
  {
   "cell_type": "markdown",
   "metadata": {},
   "source": [
    "**Avg user ratings and price are highest in the 9-11 age group**"
   ]
  },
  {
   "cell_type": "code",
   "execution_count": 998,
   "metadata": {
    "ExecuteTime": {
     "end_time": "2020-03-27T18:07:56.906466Z",
     "start_time": "2020-03-27T18:07:56.716511Z"
    }
   },
   "outputs": [
    {
     "data": {
      "image/png": "[encoded data removed]",
      "text/plain": [
       "<Figure size 432x288 with 1 Axes>"
      ]
     },
     "metadata": {
      "needs_background": "light"
     },
     "output_type": "display_data"
    }
   ],
   "source": [
    "df.groupby('cont_rating')[['price']].mean().sort_values(by=['price'], ascending=False).plot(kind='barh');"
   ]
  },
  {
   "cell_type": "code",
   "execution_count": 999,
   "metadata": {
    "ExecuteTime": {
     "end_time": "2020-03-27T18:07:57.111459Z",
     "start_time": "2020-03-27T18:07:56.911934Z"
    }
   },
   "outputs": [
    {
     "data": {
      "image/png": "[encoded data removed]",
      "text/plain": [
       "<Figure size 432x288 with 1 Axes>"
      ]
     },
     "metadata": {
      "needs_background": "light"
     },
     "output_type": "display_data"
    }
   ],
   "source": [
    "df.groupby('cont_rating')[['user_rating_ver']].mean().sort_values(by=['user_rating_ver'], ascending=False).plot(kind='barh');"
   ]
  },
  {
   "cell_type": "markdown",
   "metadata": {},
   "source": [
    "**Avg user ratings have the largest spread in 17+ age group - This is interesting; it suggests that an older age group are likely to leave a larger range of reviews than younger age groups.**"
   ]
  },
  {
   "cell_type": "code",
   "execution_count": 1000,
   "metadata": {
    "ExecuteTime": {
     "end_time": "2020-03-27T18:07:57.334201Z",
     "start_time": "2020-03-27T18:07:57.117383Z"
    }
   },
   "outputs": [
    {
     "data": {
      "image/png": "[encoded data removed]",
      "text/plain": [
       "<Figure size 576x360 with 1 Axes>"
      ]
     },
     "metadata": {
      "needs_background": "light"
     },
     "output_type": "display_data"
    }
   ],
   "source": [
    "fig, ax = plt.subplots(figsize=(8,5))\n",
    "sns.boxplot(x=df.cont_rating, y=df.user_rating_ver, order=['4-8','9-11','12-16', '17+']);"
   ]
  },
  {
   "cell_type": "markdown",
   "metadata": {},
   "source": [
    "#### Prime genre"
   ]
  },
  {
   "cell_type": "code",
   "execution_count": 1001,
   "metadata": {
    "ExecuteTime": {
     "end_time": "2020-03-27T18:07:57.357678Z",
     "start_time": "2020-03-27T18:07:57.338948Z"
    }
   },
   "outputs": [
    {
     "data": {
      "text/plain": [
       "Games            3862\n",
       "Entertainment     535\n",
       "Education         453\n",
       "Photo & Video     349\n",
       "Utilities         248\n",
       "Name: prime_genre, dtype: int64"
      ]
     },
     "execution_count": 1001,
     "metadata": {},
     "output_type": "execute_result"
    }
   ],
   "source": [
    "df.prime_genre.value_counts().head()"
   ]
  },
  {
   "cell_type": "markdown",
   "metadata": {},
   "source": [
    "**Music, productivity, game and photo apps have highest ratings and finance having lowest**"
   ]
  },
  {
   "cell_type": "code",
   "execution_count": 1002,
   "metadata": {
    "ExecuteTime": {
     "end_time": "2020-03-27T18:07:58.882974Z",
     "start_time": "2020-03-27T18:07:57.362659Z"
    }
   },
   "outputs": [
    {
     "data": {
      "image/png": "[encoded data removed]",
      "text/plain": [
       "<Figure size 720x360 with 1 Axes>"
      ]
     },
     "metadata": {
      "needs_background": "light"
     },
     "output_type": "display_data"
    }
   ],
   "source": [
    "temp = df.groupby([\"prime_genre\"])['user_rating_ver'].aggregate(np.mean).reset_index().sort_values('user_rating_ver', ascending=False)\n",
    "\n",
    "fig, ax = plt.subplots(figsize=(10,5))\n",
    "sns.barplot(x=df.prime_genre, y=df.user_rating_ver, order=temp['prime_genre'])\n",
    "ax.set_xticklabels(ax.get_xticklabels(), rotation=40, ha=\"right\")\n",
    "plt.tight_layout()\n",
    "plt.show()"
   ]
  },
  {
   "cell_type": "markdown",
   "metadata": {},
   "source": [
    "**Medical apps are most expensive and shopping is the least**"
   ]
  },
  {
   "cell_type": "code",
   "execution_count": 1003,
   "metadata": {
    "ExecuteTime": {
     "end_time": "2020-03-27T18:08:00.485574Z",
     "start_time": "2020-03-27T18:07:58.893837Z"
    }
   },
   "outputs": [
    {
     "data": {
      "image/png": "[encoded data removed]",
      "text/plain": [
       "<Figure size 720x360 with 1 Axes>"
      ]
     },
     "metadata": {
      "needs_background": "light"
     },
     "output_type": "display_data"
    }
   ],
   "source": [
    "temp = df.groupby([\"prime_genre\"])['price'].aggregate(np.mean).reset_index().sort_values('price', ascending=False)\n",
    "\n",
    "fig, ax = plt.subplots(figsize=(10,5))\n",
    "sns.barplot(x=df.prime_genre, y=df.price, order=temp['prime_genre'])\n",
    "ax.set_xticklabels(ax.get_xticklabels(), rotation=40, ha=\"right\")\n",
    "plt.tight_layout()\n",
    "plt.show()"
   ]
  },
  {
   "cell_type": "markdown",
   "metadata": {},
   "source": [
    "#### Supporting devices "
   ]
  },
  {
   "cell_type": "code",
   "execution_count": 1004,
   "metadata": {
    "ExecuteTime": {
     "end_time": "2020-03-27T18:08:00.507285Z",
     "start_time": "2020-03-27T18:08:00.494490Z"
    }
   },
   "outputs": [
    {
     "data": {
      "text/plain": [
       "37    3263\n",
       "38    1912\n",
       "40    1142\n",
       "43     371\n",
       "24     270\n",
       "Name: sup_devices.num, dtype: int64"
      ]
     },
     "execution_count": 1004,
     "metadata": {},
     "output_type": "execute_result"
    }
   ],
   "source": [
    "df['sup_devices.num'].value_counts().head()"
   ]
  },
  {
   "cell_type": "markdown",
   "metadata": {},
   "source": [
    "**Not any obvious patterns found between the number of supporting devices and Ratings, Price and Memory**"
   ]
  },
  {
   "cell_type": "markdown",
   "metadata": {
    "ExecuteTime": {
     "end_time": "2020-03-25T11:20:36.985299Z",
     "start_time": "2020-03-25T11:20:36.951543Z"
    }
   },
   "source": [
    "#### Screenshots on display "
   ]
  },
  {
   "cell_type": "markdown",
   "metadata": {},
   "source": [
    "**Most apps have either 5 screenshots or 0**"
   ]
  },
  {
   "cell_type": "code",
   "execution_count": 1005,
   "metadata": {
    "ExecuteTime": {
     "end_time": "2020-03-27T18:08:00.675493Z",
     "start_time": "2020-03-27T18:08:00.511574Z"
    }
   },
   "outputs": [
    {
     "data": {
      "image/png": "[encoded data removed]",
      "text/plain": [
       "<Figure size 432x288 with 1 Axes>"
      ]
     },
     "metadata": {
      "needs_background": "light"
     },
     "output_type": "display_data"
    }
   ],
   "source": [
    "df['ipadSc_urls.num'].value_counts().plot(kind='barh');"
   ]
  },
  {
   "cell_type": "markdown",
   "metadata": {},
   "source": [
    "**Apps with more screenshots have higher user ratings, suggesting that display of app is important**"
   ]
  },
  {
   "cell_type": "code",
   "execution_count": 1006,
   "metadata": {
    "ExecuteTime": {
     "end_time": "2020-03-27T18:08:01.330007Z",
     "start_time": "2020-03-27T18:08:00.684896Z"
    }
   },
   "outputs": [
    {
     "data": {
      "image/png": "[encoded data removed]",
      "text/plain": [
       "<Figure size 720x360 with 1 Axes>"
      ]
     },
     "metadata": {
      "needs_background": "light"
     },
     "output_type": "display_data"
    }
   ],
   "source": [
    "fig, ax = plt.subplots(figsize=(10,5))\n",
    "sns.barplot(x=df['ipadSc_urls.num'], y=df.user_rating_ver)\n",
    "ax.set_xticklabels(ax.get_xticklabels(), rotation=40, ha=\"right\")\n",
    "plt.tight_layout()\n",
    "plt.show()"
   ]
  },
  {
   "cell_type": "markdown",
   "metadata": {},
   "source": [
    "#### Number of supported languages"
   ]
  },
  {
   "cell_type": "markdown",
   "metadata": {},
   "source": [
    "**Majority of apps (3767) in this dataset are only supported by one language**"
   ]
  },
  {
   "cell_type": "code",
   "execution_count": 1007,
   "metadata": {
    "ExecuteTime": {
     "end_time": "2020-03-27T18:08:01.348759Z",
     "start_time": "2020-03-27T18:08:01.334553Z"
    }
   },
   "outputs": [
    {
     "data": {
      "text/plain": [
       "1     3767\n",
       "2      675\n",
       "11     266\n",
       "3      217\n",
       "5      207\n",
       "Name: lang.num, dtype: int64"
      ]
     },
     "execution_count": 1007,
     "metadata": {},
     "output_type": "execute_result"
    }
   ],
   "source": [
    "df['lang.num'].value_counts().head()"
   ]
  },
  {
   "cell_type": "markdown",
   "metadata": {},
   "source": [
    "**Number of supporting languages did not seem to have much of an effect on price or memory. However, increasing the number of supporting languages did increase the user ratings - *Roughly 5 languages is reccomended***"
   ]
  },
  {
   "cell_type": "code",
   "execution_count": 1008,
   "metadata": {
    "ExecuteTime": {
     "end_time": "2020-03-27T18:08:04.262987Z",
     "start_time": "2020-03-27T18:08:01.353192Z"
    }
   },
   "outputs": [
    {
     "data": {
      "image/png": "[encoded data removed]",
      "text/plain": [
       "<Figure size 720x360 with 1 Axes>"
      ]
     },
     "metadata": {
      "needs_background": "light"
     },
     "output_type": "display_data"
    }
   ],
   "source": [
    "temp = df.groupby([\"lang.num\"])['user_rating_ver'].aggregate(np.mean).reset_index().sort_values('user_rating_ver', ascending=False)\n",
    "\n",
    "fig, ax = plt.subplots(figsize=(10,5))\n",
    "sns.barplot(x=df['lang.num'], y=df.user_rating_ver, order=temp['lang.num'])\n",
    "ax.set_xticklabels(ax.get_xticklabels(), rotation=40, ha=\"right\")\n",
    "plt.tight_layout()\n",
    "plt.show()"
   ]
  },
  {
   "cell_type": "markdown",
   "metadata": {},
   "source": [
    "#### Vpp Device Based Licensing Enabled variable"
   ]
  },
  {
   "cell_type": "markdown",
   "metadata": {},
   "source": [
    "The Volume Purchase Program (VPP) binary variable: Apple portal for businesses and schools to purchase and license apps and books in volume.\n",
    "\n",
    "Majority of apps hold this license (50 do not) "
   ]
  },
  {
   "cell_type": "code",
   "execution_count": 1009,
   "metadata": {
    "ExecuteTime": {
     "end_time": "2020-03-27T18:08:04.281332Z",
     "start_time": "2020-03-27T18:08:04.269812Z"
    }
   },
   "outputs": [
    {
     "data": {
      "text/plain": [
       "1    7147\n",
       "0      50\n",
       "Name: vpp_lic, dtype: int64"
      ]
     },
     "execution_count": 1009,
     "metadata": {},
     "output_type": "execute_result"
    }
   ],
   "source": [
    "df['vpp_lic'].value_counts()"
   ]
  },
  {
   "cell_type": "markdown",
   "metadata": {
    "ExecuteTime": {
     "end_time": "2020-03-27T17:51:36.820875Z",
     "start_time": "2020-03-27T17:51:36.802028Z"
    }
   },
   "source": [
    "**The apps that do not hold this license:**\n",
    "- Have lower user ratings, are more expensive and hold more memory.\n",
    "- Majority are foreign catalogs apps"
   ]
  },
  {
   "cell_type": "code",
   "execution_count": 1010,
   "metadata": {
    "ExecuteTime": {
     "end_time": "2020-03-27T18:08:04.306302Z",
     "start_time": "2020-03-27T18:08:04.286175Z"
    }
   },
   "outputs": [
    {
     "data": {
      "text/html": [
       "<div>\n",
       "<style scoped>\n",
       "    .dataframe tbody tr th:only-of-type {\n",
       "        vertical-align: middle;\n",
       "    }\n",
       "\n",
       "    .dataframe tbody tr th {\n",
       "        vertical-align: top;\n",
       "    }\n",
       "\n",
       "    .dataframe thead th {\n",
       "        text-align: right;\n",
       "    }\n",
       "</style>\n",
       "<table border=\"1\" class=\"dataframe\">\n",
       "  <thead>\n",
       "    <tr style=\"text-align: right;\">\n",
       "      <th></th>\n",
       "      <th>vpp_lic</th>\n",
       "    </tr>\n",
       "    <tr>\n",
       "      <th>prime_genre</th>\n",
       "      <th></th>\n",
       "    </tr>\n",
       "  </thead>\n",
       "  <tbody>\n",
       "    <tr>\n",
       "      <td>Catalogs</td>\n",
       "      <td>10</td>\n",
       "    </tr>\n",
       "    <tr>\n",
       "      <td>Medical</td>\n",
       "      <td>23</td>\n",
       "    </tr>\n",
       "    <tr>\n",
       "      <td>Navigation</td>\n",
       "      <td>46</td>\n",
       "    </tr>\n",
       "    <tr>\n",
       "      <td>Business</td>\n",
       "      <td>57</td>\n",
       "    </tr>\n",
       "    <tr>\n",
       "      <td>Food &amp; Drink</td>\n",
       "      <td>63</td>\n",
       "    </tr>\n",
       "  </tbody>\n",
       "</table>\n",
       "</div>"
      ],
      "text/plain": [
       "              vpp_lic\n",
       "prime_genre          \n",
       "Catalogs           10\n",
       "Medical            23\n",
       "Navigation         46\n",
       "Business           57\n",
       "Food & Drink       63"
      ]
     },
     "execution_count": 1010,
     "metadata": {},
     "output_type": "execute_result"
    }
   ],
   "source": [
    "df.groupby('prime_genre')[['vpp_lic']].count().sort_values(by='vpp_lic', ascending=True).head()"
   ]
  },
  {
   "cell_type": "code",
   "execution_count": 1011,
   "metadata": {
    "ExecuteTime": {
     "end_time": "2020-03-27T18:08:04.343226Z",
     "start_time": "2020-03-27T18:08:04.314163Z"
    }
   },
   "outputs": [
    {
     "data": {
      "text/html": [
       "<div>\n",
       "<style scoped>\n",
       "    .dataframe tbody tr th:only-of-type {\n",
       "        vertical-align: middle;\n",
       "    }\n",
       "\n",
       "    .dataframe tbody tr th {\n",
       "        vertical-align: top;\n",
       "    }\n",
       "\n",
       "    .dataframe thead th {\n",
       "        text-align: right;\n",
       "    }\n",
       "</style>\n",
       "<table border=\"1\" class=\"dataframe\">\n",
       "  <thead>\n",
       "    <tr style=\"text-align: right;\">\n",
       "      <th></th>\n",
       "      <th>id</th>\n",
       "      <th>track_name</th>\n",
       "      <th>currency</th>\n",
       "      <th>price</th>\n",
       "      <th>rating_count_tot</th>\n",
       "      <th>rating_count_ver</th>\n",
       "      <th>user_rating</th>\n",
       "      <th>user_rating_ver</th>\n",
       "      <th>ver</th>\n",
       "      <th>cont_rating</th>\n",
       "      <th>prime_genre</th>\n",
       "      <th>sup_devices.num</th>\n",
       "      <th>ipadSc_urls.num</th>\n",
       "      <th>lang.num</th>\n",
       "      <th>vpp_lic</th>\n",
       "      <th>app_desc</th>\n",
       "      <th>mega_bytes</th>\n",
       "      <th>free_app</th>\n",
       "    </tr>\n",
       "  </thead>\n",
       "  <tbody>\n",
       "    <tr>\n",
       "      <td>7164</td>\n",
       "      <td>1181724803</td>\n",
       "      <td>ＣＲスーパー海物語ＩＮ沖縄４</td>\n",
       "      <td>USD</td>\n",
       "      <td>9.99</td>\n",
       "      <td>0</td>\n",
       "      <td>0</td>\n",
       "      <td>0.0</td>\n",
       "      <td>0.0</td>\n",
       "      <td>1.0.2</td>\n",
       "      <td>12-16</td>\n",
       "      <td>Games</td>\n",
       "      <td>40</td>\n",
       "      <td>0</td>\n",
       "      <td>1</td>\n",
       "      <td>0</td>\n",
       "      <td>【「海モード・マリンモード」が遊べる追加パック対応！】\\n\\n【説明】\\n■対応機種\\niP...</td>\n",
       "      <td>3000.0</td>\n",
       "      <td>0</td>\n",
       "    </tr>\n",
       "  </tbody>\n",
       "</table>\n",
       "</div>"
      ],
      "text/plain": [
       "              id      track_name currency  price  rating_count_tot  \\\n",
       "7164  1181724803  ＣＲスーパー海物語ＩＮ沖縄４      USD   9.99                 0   \n",
       "\n",
       "      rating_count_ver  user_rating  user_rating_ver    ver cont_rating  \\\n",
       "7164                 0          0.0              0.0  1.0.2       12-16   \n",
       "\n",
       "     prime_genre  sup_devices.num  ipadSc_urls.num  lang.num  vpp_lic  \\\n",
       "7164       Games               40                0         1        0   \n",
       "\n",
       "                                               app_desc  mega_bytes  free_app  \n",
       "7164  【「海モード・マリンモード」が遊べる追加パック対応！】\\n\\n【説明】\\n■対応機種\\niP...      3000.0         0  "
      ]
     },
     "execution_count": 1011,
     "metadata": {},
     "output_type": "execute_result"
    }
   ],
   "source": [
    "df[df['vpp_lic'] == 0].tail(1)"
   ]
  },
  {
   "cell_type": "markdown",
   "metadata": {},
   "source": [
    "# Feature engineering\n",
    "\n",
    "- Drop redundant columns\n",
    "- Subset English apps \n",
    "- Extract version features \n",
    "- Engineer language based features (length, special lettering and capitals) from app name\n",
    "- Engineer language based features from description \n",
    "\n",
    "**Main caveats:** \n",
    "- Foreign apps \n",
    "- Messy column names "
   ]
  },
  {
   "cell_type": "markdown",
   "metadata": {},
   "source": [
    "Drop ID and currency as they are redundant and offer not additional information"
   ]
  },
  {
   "cell_type": "code",
   "execution_count": 1012,
   "metadata": {
    "ExecuteTime": {
     "end_time": "2020-03-27T18:08:04.357132Z",
     "start_time": "2020-03-27T18:08:04.347766Z"
    }
   },
   "outputs": [],
   "source": [
    "df.drop(['id', 'currency'], axis=1, inplace=True)"
   ]
  },
  {
   "cell_type": "markdown",
   "metadata": {},
   "source": [
    "I want to first clean up track name column; I want to filter out additional information and prioritise just the name"
   ]
  },
  {
   "cell_type": "code",
   "execution_count": 1013,
   "metadata": {
    "ExecuteTime": {
     "end_time": "2020-03-27T18:08:06.345606Z",
     "start_time": "2020-03-27T18:08:06.265276Z"
    }
   },
   "outputs": [],
   "source": [
    "df['app_name'] = df.track_name\\\n",
    "                    .str.split(' – ').str[0]\\\n",
    "                    .str.split(' - ').str[0]\\\n",
    "                    .str.split(' -').str[0]\\\n",
    "                    .str.split(': ').str[0]"
   ]
  },
  {
   "cell_type": "markdown",
   "metadata": {
    "ExecuteTime": {
     "end_time": "2020-03-26T10:33:48.337049Z",
     "start_time": "2020-03-26T10:33:48.324556Z"
    }
   },
   "source": [
    "For now I will ignore the rest of the title"
   ]
  },
  {
   "cell_type": "code",
   "execution_count": 1014,
   "metadata": {
    "ExecuteTime": {
     "end_time": "2020-03-27T18:08:06.578316Z",
     "start_time": "2020-03-27T18:08:06.564020Z"
    }
   },
   "outputs": [],
   "source": [
    "df.drop('track_name', axis=1, inplace=True)"
   ]
  },
  {
   "cell_type": "markdown",
   "metadata": {},
   "source": [
    "Now I want to return a feature exploring whether the app has non-english characters"
   ]
  },
  {
   "cell_type": "code",
   "execution_count": 1015,
   "metadata": {
    "ExecuteTime": {
     "end_time": "2020-03-27T18:08:07.072735Z",
     "start_time": "2020-03-27T18:08:07.065725Z"
    }
   },
   "outputs": [],
   "source": [
    "def cjk_detect(texts):\n",
    "    # korean\n",
    "    if re.search(\"[\\uac00-\\ud7a3]\", texts):\n",
    "        return \"ko\"\n",
    "    # japanese\n",
    "    if re.search(\"[\\u3040-\\u30ff]\", texts):\n",
    "        return \"ja\"\n",
    "    # chinese\n",
    "    if re.search(\"[\\u4e00-\\u9FFF]\", texts):\n",
    "        return \"zh\"\n",
    "    return 'English characters'"
   ]
  },
  {
   "cell_type": "code",
   "execution_count": 1016,
   "metadata": {
    "ExecuteTime": {
     "end_time": "2020-03-27T18:08:09.260318Z",
     "start_time": "2020-03-27T18:08:09.209918Z"
    }
   },
   "outputs": [
    {
     "data": {
      "text/plain": [
       "English characters    6172\n",
       "ja                     549\n",
       "zh                     474\n",
       "ko                       2\n",
       "Name: foreign_char, dtype: int64"
      ]
     },
     "execution_count": 1016,
     "metadata": {},
     "output_type": "execute_result"
    }
   ],
   "source": [
    "df['foreign_char'] = df['app_name'].apply(lambda x: cjk_detect(x))\n",
    "df.foreign_char.value_counts()"
   ]
  },
  {
   "cell_type": "markdown",
   "metadata": {},
   "source": [
    "For now I will subset all the apps with english characters "
   ]
  },
  {
   "cell_type": "code",
   "execution_count": 1017,
   "metadata": {
    "ExecuteTime": {
     "end_time": "2020-03-27T18:08:13.956810Z",
     "start_time": "2020-03-27T18:08:13.936748Z"
    }
   },
   "outputs": [],
   "source": [
    "df = df[df['foreign_char'] == 'English characters']"
   ]
  },
  {
   "cell_type": "code",
   "execution_count": 1018,
   "metadata": {
    "ExecuteTime": {
     "end_time": "2020-03-27T18:08:14.438341Z",
     "start_time": "2020-03-27T18:08:14.431676Z"
    }
   },
   "outputs": [],
   "source": [
    "df.drop('foreign_char', axis=1, inplace=True)"
   ]
  },
  {
   "cell_type": "code",
   "execution_count": 1019,
   "metadata": {
    "ExecuteTime": {
     "end_time": "2020-03-27T18:08:14.999313Z",
     "start_time": "2020-03-27T18:08:14.991038Z"
    }
   },
   "outputs": [
    {
     "data": {
      "text/plain": [
       "(6172, 16)"
      ]
     },
     "execution_count": 1019,
     "metadata": {},
     "output_type": "execute_result"
    }
   ],
   "source": [
    "df.shape "
   ]
  },
  {
   "cell_type": "markdown",
   "metadata": {},
   "source": [
    "App versions have 3 main components: major, minor and patch. I am going to focus on major component, which moniters major changes, like rewriting of an app. "
   ]
  },
  {
   "cell_type": "code",
   "execution_count": 1020,
   "metadata": {
    "ExecuteTime": {
     "end_time": "2020-03-27T18:08:17.188386Z",
     "start_time": "2020-03-27T18:08:17.151409Z"
    }
   },
   "outputs": [
    {
     "name": "stdout",
     "output_type": "stream",
     "text": [
      "There are 10 apps that have version numbers that are in an unusual format, with a major version component larger   than 120.\n"
     ]
    }
   ],
   "source": [
    "df['major_ver'] = df.ver.apply(lambda x: str(x).split('.')[0]).astype(int)\\\n",
    "                    .apply(lambda x: 1 if x == 9999 else x)\\\n",
    "                    .apply(lambda x: 4 if x== 2013 else x)\\\n",
    "                    .apply(lambda x: np.nan if x> 120 else x)\n",
    "\n",
    "print(\"There are {} apps that have version numbers that are in an unusual format,\\\n",
    " with a major version component larger\\\n",
    "   than 120.\".format(df.major_ver.isnull().sum()))"
   ]
  },
  {
   "cell_type": "markdown",
   "metadata": {},
   "source": [
    "Impute these 10 remaining apps that have unusual format"
   ]
  },
  {
   "cell_type": "code",
   "execution_count": 1021,
   "metadata": {
    "ExecuteTime": {
     "end_time": "2020-03-27T18:08:17.737713Z",
     "start_time": "2020-03-27T18:08:17.729664Z"
    }
   },
   "outputs": [],
   "source": [
    "df['major_ver'] = df['major_ver'].fillna(df.major_ver.median())"
   ]
  },
  {
   "cell_type": "markdown",
   "metadata": {},
   "source": [
    "Do apps with earlier/later versions (lower/higher major components), have higher ratings?"
   ]
  },
  {
   "cell_type": "code",
   "execution_count": 1022,
   "metadata": {
    "ExecuteTime": {
     "end_time": "2020-03-27T18:08:18.882297Z",
     "start_time": "2020-03-27T18:08:18.666824Z"
    }
   },
   "outputs": [
    {
     "data": {
      "image/png": "[encoded data removed]",
      "text/plain": [
       "<Figure size 432x288 with 1 Axes>"
      ]
     },
     "metadata": {
      "needs_background": "light"
     },
     "output_type": "display_data"
    }
   ],
   "source": [
    "df.groupby('user_rating_ver')[['major_ver']].mean().sort_values(by='major_ver', ascending=False).plot(kind='barh');"
   ]
  },
  {
   "cell_type": "markdown",
   "metadata": {},
   "source": [
    "I would like to return the number of dots in the version. This may give an indication to how many changes and how much engineering has gone into the app."
   ]
  },
  {
   "cell_type": "code",
   "execution_count": 1023,
   "metadata": {
    "ExecuteTime": {
     "end_time": "2020-03-27T18:08:19.348172Z",
     "start_time": "2020-03-27T18:08:19.329703Z"
    }
   },
   "outputs": [
    {
     "data": {
      "text/plain": [
       "3    3605\n",
       "2    2514\n",
       "1      29\n",
       "4      23\n",
       "5       1\n",
       "Name: length_ver, dtype: int64"
      ]
     },
     "execution_count": 1023,
     "metadata": {},
     "output_type": "execute_result"
    }
   ],
   "source": [
    "df['length_ver'] = df.ver.apply(lambda x: len(str(x).split('.')))\n",
    "df.length_ver.value_counts()"
   ]
  },
  {
   "cell_type": "code",
   "execution_count": 1024,
   "metadata": {
    "ExecuteTime": {
     "end_time": "2020-03-27T18:08:20.599766Z",
     "start_time": "2020-03-27T18:08:19.799933Z"
    }
   },
   "outputs": [
    {
     "data": {
      "image/png": "[encoded data removed]",
      "text/plain": [
       "<Figure size 432x288 with 1 Axes>"
      ]
     },
     "metadata": {
      "needs_background": "light"
     },
     "output_type": "display_data"
    }
   ],
   "source": [
    "sns.barplot(x = df.user_rating_ver, y=df.length_ver);"
   ]
  },
  {
   "cell_type": "code",
   "execution_count": 1025,
   "metadata": {
    "ExecuteTime": {
     "end_time": "2020-03-27T18:08:20.616200Z",
     "start_time": "2020-03-27T18:08:20.604701Z"
    }
   },
   "outputs": [],
   "source": [
    "df.drop('ver', axis=1, inplace=True)"
   ]
  },
  {
   "cell_type": "markdown",
   "metadata": {},
   "source": [
    "Get the length name of the app"
   ]
  },
  {
   "cell_type": "code",
   "execution_count": 1026,
   "metadata": {
    "ExecuteTime": {
     "end_time": "2020-03-27T18:08:22.720697Z",
     "start_time": "2020-03-27T18:08:22.672833Z"
    }
   },
   "outputs": [],
   "source": [
    "df['app_name_len'] = df.app_name.apply(lambda x: len(re.sub(\"[^0-9A-Za-z]\", \"\", x)) if str(x)==x else 0)"
   ]
  },
  {
   "cell_type": "markdown",
   "metadata": {},
   "source": [
    "**Research suggests that the shorter the length of the name, the more successful**"
   ]
  },
  {
   "cell_type": "code",
   "execution_count": 1027,
   "metadata": {
    "ExecuteTime": {
     "end_time": "2020-03-27T18:08:23.922498Z",
     "start_time": "2020-03-27T18:08:23.036805Z"
    }
   },
   "outputs": [
    {
     "data": {
      "image/png": "[encoded data removed]",
      "text/plain": [
       "<Figure size 432x288 with 1 Axes>"
      ]
     },
     "metadata": {
      "needs_background": "light"
     },
     "output_type": "display_data"
    }
   ],
   "source": [
    "sns.barplot(x = df.user_rating_ver, y=df.app_name_len);"
   ]
  },
  {
   "cell_type": "markdown",
   "metadata": {},
   "source": [
    "Sticky letter count - memorable characters in a name"
   ]
  },
  {
   "cell_type": "code",
   "execution_count": 1028,
   "metadata": {
    "ExecuteTime": {
     "end_time": "2020-03-27T18:08:23.985337Z",
     "start_time": "2020-03-27T18:08:23.927347Z"
    }
   },
   "outputs": [],
   "source": [
    "df['sticky_letter_count'] = df.app_name.\\\n",
    "                                apply(lambda x: (len(re.sub(\"[^kKyYzZxX]\", \"\", x))) if str(x)==x else 0).\\\n",
    "                                apply(lambda x: 1 if x>0 else 0)"
   ]
  },
  {
   "cell_type": "markdown",
   "metadata": {},
   "source": [
    "Research suggests that ratings are better in apps that have sticky letters"
   ]
  },
  {
   "cell_type": "code",
   "execution_count": 1029,
   "metadata": {
    "ExecuteTime": {
     "end_time": "2020-03-27T18:08:24.533096Z",
     "start_time": "2020-03-27T18:08:24.514893Z"
    }
   },
   "outputs": [
    {
     "data": {
      "text/html": [
       "<div>\n",
       "<style scoped>\n",
       "    .dataframe tbody tr th:only-of-type {\n",
       "        vertical-align: middle;\n",
       "    }\n",
       "\n",
       "    .dataframe tbody tr th {\n",
       "        vertical-align: top;\n",
       "    }\n",
       "\n",
       "    .dataframe thead th {\n",
       "        text-align: right;\n",
       "    }\n",
       "</style>\n",
       "<table border=\"1\" class=\"dataframe\">\n",
       "  <thead>\n",
       "    <tr style=\"text-align: right;\">\n",
       "      <th></th>\n",
       "      <th>user_rating_ver</th>\n",
       "    </tr>\n",
       "    <tr>\n",
       "      <th>sticky_letter_count</th>\n",
       "      <th></th>\n",
       "    </tr>\n",
       "  </thead>\n",
       "  <tbody>\n",
       "    <tr>\n",
       "      <td>0</td>\n",
       "      <td>3.620568</td>\n",
       "    </tr>\n",
       "    <tr>\n",
       "      <td>1</td>\n",
       "      <td>3.690286</td>\n",
       "    </tr>\n",
       "  </tbody>\n",
       "</table>\n",
       "</div>"
      ],
      "text/plain": [
       "                     user_rating_ver\n",
       "sticky_letter_count                 \n",
       "0                           3.620568\n",
       "1                           3.690286"
      ]
     },
     "execution_count": 1029,
     "metadata": {},
     "output_type": "execute_result"
    }
   ],
   "source": [
    "df.groupby('sticky_letter_count')[['user_rating_ver']].mean()"
   ]
  },
  {
   "cell_type": "markdown",
   "metadata": {},
   "source": [
    "Return if word starts with a capital letter"
   ]
  },
  {
   "cell_type": "code",
   "execution_count": 1030,
   "metadata": {
    "ExecuteTime": {
     "end_time": "2020-03-27T18:08:26.085349Z",
     "start_time": "2020-03-27T18:08:26.079419Z"
    }
   },
   "outputs": [],
   "source": [
    "def is_capital(cell):\n",
    "    if cell[0].isupper():\n",
    "        return 1\n",
    "    elif cell[1].isupper():\n",
    "        return 1\n",
    "    elif cell[0] == ':':\n",
    "        return 1\n",
    "    else:\n",
    "        return 0 "
   ]
  },
  {
   "cell_type": "code",
   "execution_count": 1031,
   "metadata": {
    "ExecuteTime": {
     "end_time": "2020-03-27T18:08:26.341695Z",
     "start_time": "2020-03-27T18:08:26.319006Z"
    }
   },
   "outputs": [
    {
     "data": {
      "text/plain": [
       "1    6021\n",
       "0     151\n",
       "Name: first_letter_capital, dtype: int64"
      ]
     },
     "execution_count": 1031,
     "metadata": {},
     "output_type": "execute_result"
    }
   ],
   "source": [
    "df['first_letter_capital'] = df.app_name.apply(lambda x: is_capital(x))\n",
    "df['first_letter_capital'].value_counts()"
   ]
  },
  {
   "cell_type": "markdown",
   "metadata": {},
   "source": [
    "**Research suggests that ratings are better in apps that have have a capital letter at the start**"
   ]
  },
  {
   "cell_type": "code",
   "execution_count": 1032,
   "metadata": {
    "ExecuteTime": {
     "end_time": "2020-03-27T18:08:27.291184Z",
     "start_time": "2020-03-27T18:08:27.271260Z"
    }
   },
   "outputs": [
    {
     "data": {
      "text/html": [
       "<div>\n",
       "<style scoped>\n",
       "    .dataframe tbody tr th:only-of-type {\n",
       "        vertical-align: middle;\n",
       "    }\n",
       "\n",
       "    .dataframe tbody tr th {\n",
       "        vertical-align: top;\n",
       "    }\n",
       "\n",
       "    .dataframe thead th {\n",
       "        text-align: right;\n",
       "    }\n",
       "</style>\n",
       "<table border=\"1\" class=\"dataframe\">\n",
       "  <thead>\n",
       "    <tr style=\"text-align: right;\">\n",
       "      <th></th>\n",
       "      <th>first_letter_capital</th>\n",
       "    </tr>\n",
       "    <tr>\n",
       "      <th>user_rating_ver</th>\n",
       "      <th></th>\n",
       "    </tr>\n",
       "  </thead>\n",
       "  <tbody>\n",
       "    <tr>\n",
       "      <td>1.5</td>\n",
       "      <td>72</td>\n",
       "    </tr>\n",
       "    <tr>\n",
       "      <td>1.0</td>\n",
       "      <td>99</td>\n",
       "    </tr>\n",
       "    <tr>\n",
       "      <td>2.0</td>\n",
       "      <td>126</td>\n",
       "    </tr>\n",
       "    <tr>\n",
       "      <td>2.5</td>\n",
       "      <td>172</td>\n",
       "    </tr>\n",
       "    <tr>\n",
       "      <td>3.0</td>\n",
       "      <td>284</td>\n",
       "    </tr>\n",
       "  </tbody>\n",
       "</table>\n",
       "</div>"
      ],
      "text/plain": [
       "                 first_letter_capital\n",
       "user_rating_ver                      \n",
       "1.5                                72\n",
       "1.0                                99\n",
       "2.0                               126\n",
       "2.5                               172\n",
       "3.0                               284"
      ]
     },
     "execution_count": 1032,
     "metadata": {},
     "output_type": "execute_result"
    }
   ],
   "source": [
    "df.groupby('user_rating_ver')[['first_letter_capital']].count().sort_values(by='first_letter_capital').head()"
   ]
  },
  {
   "cell_type": "markdown",
   "metadata": {},
   "source": [
    "Return the count of syllabels"
   ]
  },
  {
   "cell_type": "code",
   "execution_count": 1033,
   "metadata": {
    "ExecuteTime": {
     "end_time": "2020-03-27T18:08:28.081062Z",
     "start_time": "2020-03-27T18:08:28.073190Z"
    }
   },
   "outputs": [],
   "source": [
    "def syllable_count(word):\n",
    "    try:\n",
    "        word = word.lower()\n",
    "        count = 0\n",
    "        vowels = \"aeiouy\"\n",
    "        if word[0] in vowels:\n",
    "            count += 1\n",
    "        for index in range(1, len(word)):\n",
    "            if word[index] in vowels and word[index - 1] not in vowels:\n",
    "                count += 1\n",
    "        if word.endswith(\"e\"):\n",
    "            count -= 1\n",
    "        if count == 0:\n",
    "            count += 1\n",
    "        return count\n",
    "    except:\n",
    "        return 0"
   ]
  },
  {
   "cell_type": "code",
   "execution_count": 1034,
   "metadata": {
    "ExecuteTime": {
     "end_time": "2020-03-27T18:08:28.616580Z",
     "start_time": "2020-03-27T18:08:28.566522Z"
    }
   },
   "outputs": [],
   "source": [
    "df['syllable_count'] = df.app_name.apply(lambda x: syllable_count(re.sub(\"[^A-Za-z]\", \"\", x)) if str(x)==x else 0)"
   ]
  },
  {
   "cell_type": "markdown",
   "metadata": {},
   "source": [
    "**Research suggests that the ideal number of syllabals in a name is 1-3**"
   ]
  },
  {
   "cell_type": "code",
   "execution_count": 1035,
   "metadata": {
    "ExecuteTime": {
     "end_time": "2020-03-27T18:08:30.254092Z",
     "start_time": "2020-03-27T18:08:29.468979Z"
    }
   },
   "outputs": [
    {
     "data": {
      "image/png": "[encoded data removed]",
      "text/plain": [
       "<Figure size 432x288 with 1 Axes>"
      ]
     },
     "metadata": {
      "needs_background": "light"
     },
     "output_type": "display_data"
    }
   ],
   "source": [
    "sns.barplot(x = df.user_rating_ver, y=df.syllable_count);"
   ]
  },
  {
   "cell_type": "markdown",
   "metadata": {},
   "source": [
    "Will drop app name for now"
   ]
  },
  {
   "cell_type": "code",
   "execution_count": 1036,
   "metadata": {
    "ExecuteTime": {
     "end_time": "2020-03-27T18:08:31.103127Z",
     "start_time": "2020-03-27T18:08:31.093116Z"
    }
   },
   "outputs": [],
   "source": [
    "df.drop('app_name', axis=1, inplace=True)"
   ]
  },
  {
   "cell_type": "markdown",
   "metadata": {},
   "source": [
    "**Will now focus on the app description and its language features**\n",
    "\n",
    "- The description length\n",
    "- Contains capital words\n",
    "- Whether a URL is included\n",
    "- References to discounts in their description\n",
    "- Apps awards and achievements"
   ]
  },
  {
   "cell_type": "code",
   "execution_count": 1037,
   "metadata": {
    "ExecuteTime": {
     "end_time": "2020-03-27T18:08:32.047058Z",
     "start_time": "2020-03-27T18:08:31.940688Z"
    }
   },
   "outputs": [],
   "source": [
    "#removing newline characters\n",
    "df.app_desc = df.app_desc.replace('\\n', ' ', regex=True)"
   ]
  },
  {
   "cell_type": "code",
   "execution_count": 1038,
   "metadata": {
    "ExecuteTime": {
     "end_time": "2020-03-27T18:08:33.045583Z",
     "start_time": "2020-03-27T18:08:32.752719Z"
    }
   },
   "outputs": [
    {
     "data": {
      "text/plain": [
       "English characters    6029\n",
       "ja                      98\n",
       "zh                      24\n",
       "ko                      21\n",
       "Name: foreign_char, dtype: int64"
      ]
     },
     "execution_count": 1038,
     "metadata": {},
     "output_type": "execute_result"
    }
   ],
   "source": [
    "#removing foreign descriptions \n",
    "df['foreign_char'] = df['app_desc'].apply(lambda x: cjk_detect(x))\n",
    "df.foreign_char.value_counts()"
   ]
  },
  {
   "cell_type": "code",
   "execution_count": 1039,
   "metadata": {
    "ExecuteTime": {
     "end_time": "2020-03-27T18:08:33.166050Z",
     "start_time": "2020-03-27T18:08:33.153314Z"
    }
   },
   "outputs": [],
   "source": [
    "df = df[df['foreign_char'] == 'English characters']"
   ]
  },
  {
   "cell_type": "code",
   "execution_count": 1040,
   "metadata": {
    "ExecuteTime": {
     "end_time": "2020-03-27T18:08:34.036621Z",
     "start_time": "2020-03-27T18:08:34.030352Z"
    }
   },
   "outputs": [],
   "source": [
    "df.drop('foreign_char', axis=1, inplace=True)"
   ]
  },
  {
   "cell_type": "code",
   "execution_count": 1041,
   "metadata": {
    "ExecuteTime": {
     "end_time": "2020-03-27T18:08:34.412989Z",
     "start_time": "2020-03-27T18:08:34.405396Z"
    }
   },
   "outputs": [
    {
     "data": {
      "text/plain": [
       "(6029, 20)"
      ]
     },
     "execution_count": 1041,
     "metadata": {},
     "output_type": "execute_result"
    }
   ],
   "source": [
    "df.shape"
   ]
  },
  {
   "cell_type": "markdown",
   "metadata": {},
   "source": [
    "Return description length"
   ]
  },
  {
   "cell_type": "code",
   "execution_count": 1042,
   "metadata": {
    "ExecuteTime": {
     "end_time": "2020-03-27T18:08:47.293530Z",
     "start_time": "2020-03-27T18:08:46.555503Z"
    }
   },
   "outputs": [],
   "source": [
    "df['desc_len'] = df.app_desc.apply(lambda x: len(re.sub(\"[^0-9A-Za-z]\", \"\", x)) if str(x)==x else 0)"
   ]
  },
  {
   "cell_type": "markdown",
   "metadata": {},
   "source": [
    "**More lengthy descriptions are linked with higher rated apps**"
   ]
  },
  {
   "cell_type": "code",
   "execution_count": 1043,
   "metadata": {
    "ExecuteTime": {
     "end_time": "2020-03-27T18:08:56.675844Z",
     "start_time": "2020-03-27T18:08:55.754994Z"
    }
   },
   "outputs": [
    {
     "data": {
      "image/png": "[encoded data removed]",
      "text/plain": [
       "<Figure size 432x288 with 1 Axes>"
      ]
     },
     "metadata": {
      "needs_background": "light"
     },
     "output_type": "display_data"
    }
   ],
   "source": [
    "sns.barplot(x = df.user_rating_ver, y=df.desc_len);"
   ]
  },
  {
   "cell_type": "markdown",
   "metadata": {},
   "source": [
    "Return uppercase ratio of words in description"
   ]
  },
  {
   "cell_type": "code",
   "execution_count": 1044,
   "metadata": {
    "ExecuteTime": {
     "end_time": "2020-03-27T18:09:33.801605Z",
     "start_time": "2020-03-27T18:09:33.793018Z"
    }
   },
   "outputs": [],
   "source": [
    "def uppercase_ratio(cell):\n",
    "    try:  \n",
    "        return len(re.findall('[A-Z]', cell))/len(re.findall('[A-Za-z]', cell))\n",
    "    except:\n",
    "        pass"
   ]
  },
  {
   "cell_type": "code",
   "execution_count": 1045,
   "metadata": {
    "ExecuteTime": {
     "end_time": "2020-03-27T18:09:38.210704Z",
     "start_time": "2020-03-27T18:09:36.290746Z"
    }
   },
   "outputs": [],
   "source": [
    "df['desc_uppercaseratio'] = df.app_desc.apply(lambda x: uppercase_ratio(x))"
   ]
  },
  {
   "cell_type": "markdown",
   "metadata": {},
   "source": [
    "**Descriptions with higher ratio of uppercase words may be taken less seriously by users and be deemed as less professional**"
   ]
  },
  {
   "cell_type": "code",
   "execution_count": 1046,
   "metadata": {
    "ExecuteTime": {
     "end_time": "2020-03-27T18:09:47.990896Z",
     "start_time": "2020-03-27T18:09:47.180093Z"
    }
   },
   "outputs": [
    {
     "data": {
      "image/png": "[encoded data removed]",
      "text/plain": [
       "<Figure size 432x288 with 1 Axes>"
      ]
     },
     "metadata": {
      "needs_background": "light"
     },
     "output_type": "display_data"
    }
   ],
   "source": [
    "sns.barplot(x = df.user_rating_ver, y=df.desc_uppercaseratio);"
   ]
  },
  {
   "cell_type": "markdown",
   "metadata": {},
   "source": [
    "Return whether external URL is included "
   ]
  },
  {
   "cell_type": "code",
   "execution_count": 1047,
   "metadata": {
    "ExecuteTime": {
     "end_time": "2020-03-27T18:09:52.618508Z",
     "start_time": "2020-03-27T18:09:52.611500Z"
    }
   },
   "outputs": [],
   "source": [
    "def URLS(cell):\n",
    "    return re.findall('(www.[a-zA-Z]*.com/[a-zA-Z]*)', cell)"
   ]
  },
  {
   "cell_type": "code",
   "execution_count": 1048,
   "metadata": {
    "ExecuteTime": {
     "end_time": "2020-03-27T18:09:54.845844Z",
     "start_time": "2020-03-27T18:09:54.801743Z"
    }
   },
   "outputs": [],
   "source": [
    "df['desc_URL'] = df.app_desc\\\n",
    "                .apply(lambda x: URLS(x)).astype(str)\\\n",
    "                .apply(lambda x: 0 if x == '[]' else 1)"
   ]
  },
  {
   "cell_type": "code",
   "execution_count": 1049,
   "metadata": {
    "ExecuteTime": {
     "end_time": "2020-03-27T18:09:55.900018Z",
     "start_time": "2020-03-27T18:09:55.889364Z"
    }
   },
   "outputs": [
    {
     "data": {
      "text/plain": [
       "0    4641\n",
       "1    1388\n",
       "Name: desc_URL, dtype: int64"
      ]
     },
     "execution_count": 1049,
     "metadata": {},
     "output_type": "execute_result"
    }
   ],
   "source": [
    "df['desc_URL'].value_counts()"
   ]
  },
  {
   "cell_type": "markdown",
   "metadata": {},
   "source": [
    "**The higher rated apps seem to contain external URLs**"
   ]
  },
  {
   "cell_type": "code",
   "execution_count": 1050,
   "metadata": {
    "ExecuteTime": {
     "end_time": "2020-03-27T18:10:09.477906Z",
     "start_time": "2020-03-27T18:10:09.277779Z"
    }
   },
   "outputs": [
    {
     "data": {
      "image/png": "[encoded data removed]",
      "text/plain": [
       "<Figure size 432x288 with 1 Axes>"
      ]
     },
     "metadata": {
      "needs_background": "light"
     },
     "output_type": "display_data"
    }
   ],
   "source": [
    "df.groupby('user_rating_ver')[['desc_URL']].count().sort_values(by='desc_URL', ascending=False).plot(kind='barh');"
   ]
  },
  {
   "cell_type": "markdown",
   "metadata": {},
   "source": [
    "Finding reference to free or discounted deals"
   ]
  },
  {
   "cell_type": "code",
   "execution_count": 1051,
   "metadata": {
    "ExecuteTime": {
     "end_time": "2020-03-27T18:10:17.391631Z",
     "start_time": "2020-03-27T18:10:17.383068Z"
    }
   },
   "outputs": [],
   "source": [
    "deal_terms = ['deal', 'save', 'deals', 'discount', 'free', 'percent', '%', 'limited time', 'saving']"
   ]
  },
  {
   "cell_type": "code",
   "execution_count": 1053,
   "metadata": {
    "ExecuteTime": {
     "end_time": "2020-03-27T18:10:19.888715Z",
     "start_time": "2020-03-27T18:10:19.879794Z"
    }
   },
   "outputs": [],
   "source": [
    "def check_for_deals(string):\n",
    "    strings = re.sub(\"[^a-z]\", ' ',string.lower()).split()\n",
    "    count = 0\n",
    "    for i in strings:\n",
    "        if i in deal_terms:\n",
    "            count +=1\n",
    "    return count"
   ]
  },
  {
   "cell_type": "code",
   "execution_count": 1054,
   "metadata": {
    "ExecuteTime": {
     "end_time": "2020-03-27T18:10:21.704302Z",
     "start_time": "2020-03-27T18:10:20.361539Z"
    }
   },
   "outputs": [
    {
     "data": {
      "text/plain": [
       "0    3206\n",
       "1    1485\n",
       "2     661\n",
       "3     344\n",
       "4     148\n",
       "Name: desc_deals, dtype: int64"
      ]
     },
     "execution_count": 1054,
     "metadata": {},
     "output_type": "execute_result"
    }
   ],
   "source": [
    "df['desc_deals'] = df.app_desc.apply(lambda x: check_for_deals(x))\n",
    "df['desc_deals'].value_counts().head()"
   ]
  },
  {
   "cell_type": "markdown",
   "metadata": {},
   "source": [
    "**Apps with reference to free in their description have higher ratings**"
   ]
  },
  {
   "cell_type": "code",
   "execution_count": 1055,
   "metadata": {
    "ExecuteTime": {
     "end_time": "2020-03-27T18:10:35.298578Z",
     "start_time": "2020-03-27T18:10:35.092651Z"
    }
   },
   "outputs": [
    {
     "data": {
      "image/png": "[encoded data removed]",
      "text/plain": [
       "<Figure size 432x288 with 1 Axes>"
      ]
     },
     "metadata": {
      "needs_background": "light"
     },
     "output_type": "display_data"
    }
   ],
   "source": [
    "df.groupby('user_rating_ver')[['desc_deals']].mean().sort_values(by='desc_deals', ascending=False).plot(kind='barh');"
   ]
  },
  {
   "cell_type": "markdown",
   "metadata": {},
   "source": [
    "Finding reference to achievements and awards in the description"
   ]
  },
  {
   "cell_type": "code",
   "execution_count": 1056,
   "metadata": {
    "ExecuteTime": {
     "end_time": "2020-03-27T18:10:42.600804Z",
     "start_time": "2020-03-27T18:10:42.596272Z"
    }
   },
   "outputs": [],
   "source": [
    "award_terms = ['award', 'awards', 'achieve', 'winner', 'win', 'competition', 'achievement', 'achievements', 'prize']"
   ]
  },
  {
   "cell_type": "code",
   "execution_count": 1057,
   "metadata": {
    "ExecuteTime": {
     "end_time": "2020-03-27T18:10:42.960200Z",
     "start_time": "2020-03-27T18:10:42.954757Z"
    }
   },
   "outputs": [],
   "source": [
    "def check_for_awards(string):\n",
    "    strings = re.sub(\"[^a-z]\", ' ',string.lower()).split()\n",
    "    count = 0\n",
    "    for i in strings:\n",
    "        if i in award_terms:\n",
    "            count +=1\n",
    "    return count"
   ]
  },
  {
   "cell_type": "code",
   "execution_count": 1058,
   "metadata": {
    "ExecuteTime": {
     "end_time": "2020-03-27T18:10:44.793471Z",
     "start_time": "2020-03-27T18:10:43.396079Z"
    }
   },
   "outputs": [
    {
     "data": {
      "text/plain": [
       "0    4330\n",
       "1    1010\n",
       "2     365\n",
       "3     149\n",
       "4      75\n",
       "Name: desc_awards, dtype: int64"
      ]
     },
     "execution_count": 1058,
     "metadata": {},
     "output_type": "execute_result"
    }
   ],
   "source": [
    "df['desc_awards'] = df.app_desc.apply(lambda x: check_for_awards(x))\n",
    "df['desc_awards'].value_counts().head()"
   ]
  },
  {
   "cell_type": "markdown",
   "metadata": {},
   "source": [
    "**Apps with reference to awards in their description have higher ratings**"
   ]
  },
  {
   "cell_type": "code",
   "execution_count": 1059,
   "metadata": {
    "ExecuteTime": {
     "end_time": "2020-03-27T18:11:01.203119Z",
     "start_time": "2020-03-27T18:11:00.973543Z"
    }
   },
   "outputs": [
    {
     "data": {
      "image/png": "[encoded data removed]",
      "text/plain": [
       "<Figure size 432x288 with 1 Axes>"
      ]
     },
     "metadata": {
      "needs_background": "light"
     },
     "output_type": "display_data"
    }
   ],
   "source": [
    "df.groupby('user_rating_ver')[['desc_awards']].mean().sort_values(by='desc_awards', ascending=False).plot(kind='barh');"
   ]
  },
  {
   "cell_type": "code",
   "execution_count": 1060,
   "metadata": {
    "ExecuteTime": {
     "end_time": "2020-03-27T18:11:07.419362Z",
     "start_time": "2020-03-27T18:11:07.403527Z"
    }
   },
   "outputs": [],
   "source": [
    "df.drop('app_desc', axis=1, inplace=True)"
   ]
  },
  {
   "cell_type": "code",
   "execution_count": 1061,
   "metadata": {
    "ExecuteTime": {
     "end_time": "2020-03-27T18:11:08.385941Z",
     "start_time": "2020-03-27T18:11:08.378866Z"
    }
   },
   "outputs": [
    {
     "data": {
      "text/plain": [
       "(6029, 24)"
      ]
     },
     "execution_count": 1061,
     "metadata": {},
     "output_type": "execute_result"
    }
   ],
   "source": [
    "df.shape"
   ]
  },
  {
   "cell_type": "markdown",
   "metadata": {},
   "source": [
    "**Future directions:**\n",
    "\n",
    "I am aware there there is lots more to do in reference to language:\n",
    "\n",
    "- Look at what topic/sentiment best predicts different catagories of apps (Maybe look at the most dominating catagory) "
   ]
  },
  {
   "cell_type": "markdown",
   "metadata": {},
   "source": [
    "# Modelling"
   ]
  },
  {
   "cell_type": "code",
   "execution_count": 1062,
   "metadata": {
    "ExecuteTime": {
     "end_time": "2020-03-27T18:13:11.189535Z",
     "start_time": "2020-03-27T18:13:11.179258Z"
    }
   },
   "outputs": [
    {
     "data": {
      "text/plain": [
       "price                   float64\n",
       "rating_count_tot          int64\n",
       "rating_count_ver          int64\n",
       "user_rating             float64\n",
       "user_rating_ver         float64\n",
       "cont_rating              object\n",
       "prime_genre              object\n",
       "sup_devices.num           int64\n",
       "ipadSc_urls.num           int64\n",
       "lang.num                  int64\n",
       "vpp_lic                   int64\n",
       "mega_bytes              float64\n",
       "free_app                  int64\n",
       "major_ver               float64\n",
       "length_ver                int64\n",
       "app_name_len              int64\n",
       "sticky_letter_count       int64\n",
       "first_letter_capital      int64\n",
       "syllable_count            int64\n",
       "desc_len                  int64\n",
       "desc_uppercaseratio     float64\n",
       "desc_URL                  int64\n",
       "desc_deals                int64\n",
       "desc_awards               int64\n",
       "dtype: object"
      ]
     },
     "execution_count": 1062,
     "metadata": {},
     "output_type": "execute_result"
    }
   ],
   "source": [
    "df.dtypes"
   ]
  },
  {
   "cell_type": "markdown",
   "metadata": {},
   "source": [
    " AS apps get bigger - they get treated more unfairly with higher expectations "
   ]
  },
  {
   "cell_type": "markdown",
   "metadata": {},
   "source": [
    "# binned functions for now"
   ]
  },
  {
   "cell_type": "code",
   "execution_count": null,
   "metadata": {},
   "outputs": [],
   "source": [
    "# Get the length of the cleaned app name, including the foreign characters\n",
    "def get_length_char(context):\n",
    "    length = len(re.sub(\"[^0-9A-Za-z]\", \"\", context))\n",
    "    if length == 0:\n",
    "        context = context.encode()\n",
    "        context = context.decode(\"utf-8\") # convert context from str to unicode\n",
    "        filtrate = re.compile(u'[^\\u4E00-\\u9FA5]') # non-foreign unicode range\n",
    "        context = filtrate.sub(r'', context) # remove all non-Chinese characters\n",
    "        context = context.encode(\"utf-8\") # convert unicode back to str\n",
    "        return len(context)\n",
    "    else:\n",
    "        return length\n",
    "    \n",
    "    \n",
    "df['app_name_len'] = df.app_name.apply(lambda x: get_length_char(x))"
   ]
  }
 ],
 "metadata": {
  "kernelspec": {
   "display_name": "Python 3",
   "language": "python",
   "name": "python3"
  },
  "language_info": {
   "codemirror_mode": {
    "name": "ipython",
    "version": 3
   },
   "file_extension": ".py",
   "mimetype": "text/x-python",
   "name": "python",
   "nbconvert_exporter": "python",
   "pygments_lexer": "ipython3",
   "version": "3.7.4"
  }
 },
 "nbformat": 4,
 "nbformat_minor": 2
}
