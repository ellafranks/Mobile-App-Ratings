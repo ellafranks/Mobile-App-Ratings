{
 "cells": [
  {
   "cell_type": "markdown",
   "metadata": {},
   "source": [
    "# Mobile App Store (7200 apps) \n",
    "\n",
    "**Data source:**https://www.kaggle.com/ramamet4/app-store-apple-data-set-10k-apps\n",
    "\n",
    "App user ratings plays an important role in app revenue. \n",
    "\n",
    "If your app has low ratings, its search position tends to be low. The top 10 rated apps gather 90% of category revenue, all the rest compete for the remaining 10 percent.\n",
    "\n",
    "\n",
    "*With data extracted from the itunes data from Kaggle, this project explores the non-language and language features that predict app user ratings.*\n",
    "\n",
    "\n",
    "**Project Focus:**\n",
    "- Feature engineering\n",
    "- EDA and visualisation\n"
   ]
  },
  {
   "cell_type": "code",
   "execution_count": 81,
   "metadata": {
    "ExecuteTime": {
     "end_time": "2020-03-31T15:30:18.338611Z",
     "start_time": "2020-03-31T15:30:18.316515Z"
    }
   },
   "outputs": [],
   "source": [
    "import pandas as pd\n",
    "import re\n",
    "import numpy as np"
   ]
  },
  {
   "cell_type": "code",
   "execution_count": 82,
   "metadata": {
    "ExecuteTime": {
     "end_time": "2020-03-31T15:30:18.643109Z",
     "start_time": "2020-03-31T15:30:18.633889Z"
    }
   },
   "outputs": [],
   "source": [
    "import warnings\n",
    "warnings.filterwarnings('ignore')"
   ]
  },
  {
   "cell_type": "code",
   "execution_count": 83,
   "metadata": {
    "ExecuteTime": {
     "end_time": "2020-03-31T15:30:18.842535Z",
     "start_time": "2020-03-31T15:30:18.836906Z"
    }
   },
   "outputs": [],
   "source": [
    "from hurry.filesize import size"
   ]
  },
  {
   "cell_type": "code",
   "execution_count": 84,
   "metadata": {
    "ExecuteTime": {
     "end_time": "2020-03-31T15:30:19.104391Z",
     "start_time": "2020-03-31T15:30:19.098133Z"
    }
   },
   "outputs": [],
   "source": [
    "import seaborn as sns\n",
    "import matplotlib.pyplot as plt"
   ]
  },
  {
   "cell_type": "code",
   "execution_count": 85,
   "metadata": {
    "ExecuteTime": {
     "end_time": "2020-03-31T15:30:19.406957Z",
     "start_time": "2020-03-31T15:30:19.397661Z"
    }
   },
   "outputs": [],
   "source": [
    "import sys\n",
    "pd.options.display.encoding = sys.stdout.encoding"
   ]
  },
  {
   "cell_type": "code",
   "execution_count": 86,
   "metadata": {
    "ExecuteTime": {
     "end_time": "2020-03-31T15:30:20.120784Z",
     "start_time": "2020-03-31T15:30:20.110953Z"
    }
   },
   "outputs": [],
   "source": [
    "from sklearn.linear_model import LinearRegression, LogisticRegression\n",
    "from sklearn.model_selection import cross_val_score\n",
    "from sklearn.preprocessing import StandardScaler\n",
    "from sklearn.linear_model import ElasticNet\n",
    "from sklearn.model_selection import train_test_split\n",
    "from sklearn.model_selection import GridSearchCV\n",
    "from sklearn.ensemble import RandomForestClassifier\n",
    "from sklearn.tree import DecisionTreeClassifier\n",
    "from sklearn.ensemble import AdaBoostClassifier\n",
    "from sklearn.neighbors import KNeighborsClassifier\n",
    "from sklearn.tree import DecisionTreeClassifier\n",
    "from sklearn.ensemble import RandomForestClassifier, ExtraTreesClassifier\n",
    "from sklearn.ensemble import BaggingClassifier, GradientBoostingClassifier\n",
    "from sklearn.feature_selection import RFE, RFECV"
   ]
  },
  {
   "cell_type": "markdown",
   "metadata": {},
   "source": [
    "# EDA"
   ]
  },
  {
   "cell_type": "code",
   "execution_count": 180,
   "metadata": {
    "ExecuteTime": {
     "end_time": "2020-03-31T15:38:09.956661Z",
     "start_time": "2020-03-31T15:38:09.858598Z"
    }
   },
   "outputs": [],
   "source": [
    "df = pd.read_csv('AppleStore.csv', index_col=[0]).reset_index(drop=True)"
   ]
  },
  {
   "cell_type": "code",
   "execution_count": 181,
   "metadata": {
    "ExecuteTime": {
     "end_time": "2020-03-31T15:38:10.440597Z",
     "start_time": "2020-03-31T15:38:10.036615Z"
    }
   },
   "outputs": [],
   "source": [
    "description = pd.read_csv('appleStore_description.csv')"
   ]
  },
  {
   "cell_type": "code",
   "execution_count": 182,
   "metadata": {
    "ExecuteTime": {
     "end_time": "2020-03-31T15:38:10.465145Z",
     "start_time": "2020-03-31T15:38:10.445585Z"
    }
   },
   "outputs": [],
   "source": [
    "df = pd.merge(df, description.app_desc, left_index=True, right_index=True)"
   ]
  },
  {
   "cell_type": "code",
   "execution_count": 183,
   "metadata": {
    "ExecuteTime": {
     "end_time": "2020-03-31T15:38:10.481279Z",
     "start_time": "2020-03-31T15:38:10.470913Z"
    }
   },
   "outputs": [
    {
     "name": "stdout",
     "output_type": "stream",
     "text": [
      "['id', 'track_name', 'size_bytes', 'currency', 'price', 'rating_count_tot', 'rating_count_ver', 'user_rating', 'user_rating_ver', 'ver', 'cont_rating', 'prime_genre', 'sup_devices.num', 'ipadSc_urls.num', 'lang.num', 'vpp_lic', 'app_desc']\n"
     ]
    }
   ],
   "source": [
    "print(list(df.columns))"
   ]
  },
  {
   "cell_type": "code",
   "execution_count": 184,
   "metadata": {
    "ExecuteTime": {
     "end_time": "2020-03-31T15:38:10.584189Z",
     "start_time": "2020-03-31T15:38:10.537373Z"
    }
   },
   "outputs": [
    {
     "data": {
      "text/html": [
       "<div>\n",
       "<style scoped>\n",
       "    .dataframe tbody tr th:only-of-type {\n",
       "        vertical-align: middle;\n",
       "    }\n",
       "\n",
       "    .dataframe tbody tr th {\n",
       "        vertical-align: top;\n",
       "    }\n",
       "\n",
       "    .dataframe thead th {\n",
       "        text-align: right;\n",
       "    }\n",
       "</style>\n",
       "<table border=\"1\" class=\"dataframe\">\n",
       "  <thead>\n",
       "    <tr style=\"text-align: right;\">\n",
       "      <th></th>\n",
       "      <th>id</th>\n",
       "      <th>track_name</th>\n",
       "      <th>size_bytes</th>\n",
       "      <th>currency</th>\n",
       "      <th>price</th>\n",
       "      <th>rating_count_tot</th>\n",
       "      <th>rating_count_ver</th>\n",
       "      <th>user_rating</th>\n",
       "      <th>user_rating_ver</th>\n",
       "      <th>ver</th>\n",
       "      <th>cont_rating</th>\n",
       "      <th>prime_genre</th>\n",
       "      <th>sup_devices.num</th>\n",
       "      <th>ipadSc_urls.num</th>\n",
       "      <th>lang.num</th>\n",
       "      <th>vpp_lic</th>\n",
       "      <th>app_desc</th>\n",
       "    </tr>\n",
       "  </thead>\n",
       "  <tbody>\n",
       "    <tr>\n",
       "      <td>0</td>\n",
       "      <td>281656475</td>\n",
       "      <td>PAC-MAN Premium</td>\n",
       "      <td>100788224</td>\n",
       "      <td>USD</td>\n",
       "      <td>3.99</td>\n",
       "      <td>21292</td>\n",
       "      <td>26</td>\n",
       "      <td>4.0</td>\n",
       "      <td>4.5</td>\n",
       "      <td>6.3.5</td>\n",
       "      <td>4+</td>\n",
       "      <td>Games</td>\n",
       "      <td>38</td>\n",
       "      <td>5</td>\n",
       "      <td>10</td>\n",
       "      <td>1</td>\n",
       "      <td>SAVE 20%, now only $3.99 for a limited time!\\n...</td>\n",
       "    </tr>\n",
       "    <tr>\n",
       "      <td>1</td>\n",
       "      <td>281796108</td>\n",
       "      <td>Evernote - stay organized</td>\n",
       "      <td>158578688</td>\n",
       "      <td>USD</td>\n",
       "      <td>0.00</td>\n",
       "      <td>161065</td>\n",
       "      <td>26</td>\n",
       "      <td>4.0</td>\n",
       "      <td>3.5</td>\n",
       "      <td>8.2.2</td>\n",
       "      <td>4+</td>\n",
       "      <td>Productivity</td>\n",
       "      <td>37</td>\n",
       "      <td>5</td>\n",
       "      <td>23</td>\n",
       "      <td>1</td>\n",
       "      <td>Let Evernote change the way you organize your ...</td>\n",
       "    </tr>\n",
       "    <tr>\n",
       "      <td>2</td>\n",
       "      <td>281940292</td>\n",
       "      <td>WeatherBug - Local Weather, Radar, Maps, Alerts</td>\n",
       "      <td>100524032</td>\n",
       "      <td>USD</td>\n",
       "      <td>0.00</td>\n",
       "      <td>188583</td>\n",
       "      <td>2822</td>\n",
       "      <td>3.5</td>\n",
       "      <td>4.5</td>\n",
       "      <td>5.0.0</td>\n",
       "      <td>4+</td>\n",
       "      <td>Weather</td>\n",
       "      <td>37</td>\n",
       "      <td>5</td>\n",
       "      <td>3</td>\n",
       "      <td>1</td>\n",
       "      <td>Download the most popular free weather app pow...</td>\n",
       "    </tr>\n",
       "    <tr>\n",
       "      <td>3</td>\n",
       "      <td>282614216</td>\n",
       "      <td>eBay: Best App to Buy, Sell, Save! Online Shop...</td>\n",
       "      <td>128512000</td>\n",
       "      <td>USD</td>\n",
       "      <td>0.00</td>\n",
       "      <td>262241</td>\n",
       "      <td>649</td>\n",
       "      <td>4.0</td>\n",
       "      <td>4.5</td>\n",
       "      <td>5.10.0</td>\n",
       "      <td>12+</td>\n",
       "      <td>Shopping</td>\n",
       "      <td>37</td>\n",
       "      <td>5</td>\n",
       "      <td>9</td>\n",
       "      <td>1</td>\n",
       "      <td>The eBay app is the best way to find anything ...</td>\n",
       "    </tr>\n",
       "    <tr>\n",
       "      <td>4</td>\n",
       "      <td>282935706</td>\n",
       "      <td>Bible</td>\n",
       "      <td>92774400</td>\n",
       "      <td>USD</td>\n",
       "      <td>0.00</td>\n",
       "      <td>985920</td>\n",
       "      <td>5320</td>\n",
       "      <td>4.5</td>\n",
       "      <td>5.0</td>\n",
       "      <td>7.5.1</td>\n",
       "      <td>4+</td>\n",
       "      <td>Reference</td>\n",
       "      <td>37</td>\n",
       "      <td>5</td>\n",
       "      <td>45</td>\n",
       "      <td>1</td>\n",
       "      <td>On more than 250 million devices around the wo...</td>\n",
       "    </tr>\n",
       "  </tbody>\n",
       "</table>\n",
       "</div>"
      ],
      "text/plain": [
       "          id                                         track_name  size_bytes  \\\n",
       "0  281656475                                    PAC-MAN Premium   100788224   \n",
       "1  281796108                          Evernote - stay organized   158578688   \n",
       "2  281940292    WeatherBug - Local Weather, Radar, Maps, Alerts   100524032   \n",
       "3  282614216  eBay: Best App to Buy, Sell, Save! Online Shop...   128512000   \n",
       "4  282935706                                              Bible    92774400   \n",
       "\n",
       "  currency  price  rating_count_tot  rating_count_ver  user_rating  \\\n",
       "0      USD   3.99             21292                26          4.0   \n",
       "1      USD   0.00            161065                26          4.0   \n",
       "2      USD   0.00            188583              2822          3.5   \n",
       "3      USD   0.00            262241               649          4.0   \n",
       "4      USD   0.00            985920              5320          4.5   \n",
       "\n",
       "   user_rating_ver     ver cont_rating   prime_genre  sup_devices.num  \\\n",
       "0              4.5   6.3.5          4+         Games               38   \n",
       "1              3.5   8.2.2          4+  Productivity               37   \n",
       "2              4.5   5.0.0          4+       Weather               37   \n",
       "3              4.5  5.10.0         12+      Shopping               37   \n",
       "4              5.0   7.5.1          4+     Reference               37   \n",
       "\n",
       "   ipadSc_urls.num  lang.num  vpp_lic  \\\n",
       "0                5        10        1   \n",
       "1                5        23        1   \n",
       "2                5         3        1   \n",
       "3                5         9        1   \n",
       "4                5        45        1   \n",
       "\n",
       "                                            app_desc  \n",
       "0  SAVE 20%, now only $3.99 for a limited time!\\n...  \n",
       "1  Let Evernote change the way you organize your ...  \n",
       "2  Download the most popular free weather app pow...  \n",
       "3  The eBay app is the best way to find anything ...  \n",
       "4  On more than 250 million devices around the wo...  "
      ]
     },
     "execution_count": 184,
     "metadata": {},
     "output_type": "execute_result"
    }
   ],
   "source": [
    "df.head()"
   ]
  },
  {
   "cell_type": "code",
   "execution_count": 185,
   "metadata": {
    "ExecuteTime": {
     "end_time": "2020-03-31T15:38:11.737676Z",
     "start_time": "2020-03-31T15:38:11.726791Z"
    }
   },
   "outputs": [
    {
     "data": {
      "text/plain": [
       "(7197, 17)"
      ]
     },
     "execution_count": 185,
     "metadata": {},
     "output_type": "execute_result"
    }
   ],
   "source": [
    "df.shape"
   ]
  },
  {
   "cell_type": "code",
   "execution_count": 186,
   "metadata": {
    "ExecuteTime": {
     "end_time": "2020-03-31T15:38:12.077406Z",
     "start_time": "2020-03-31T15:38:11.863196Z"
    }
   },
   "outputs": [
    {
     "name": "stdout",
     "output_type": "stream",
     "text": [
      "There are 0 duplicates found in this data\n",
      "There are 0 nulls found in this data\n"
     ]
    }
   ],
   "source": [
    "print('There are {} duplicates found in this data'.format(df.duplicated().sum()))\n",
    "print('There are {} nulls found in this data'.format(df.isnull().sum().sum()))"
   ]
  },
  {
   "cell_type": "markdown",
   "metadata": {},
   "source": [
    "#### Convert bytes into a more readable format of megabytes "
   ]
  },
  {
   "cell_type": "code",
   "execution_count": 187,
   "metadata": {
    "ExecuteTime": {
     "end_time": "2020-03-31T15:38:12.200753Z",
     "start_time": "2020-03-31T15:38:12.165478Z"
    }
   },
   "outputs": [],
   "source": [
    "df['mega_bytes'] = df.size_bytes.apply(lambda x: size(x)\\\n",
    "                            .replace('M', ''))\\\n",
    "                            .apply(lambda x: (x.replace('G', '000')) if 'G' in x else x)\\\n",
    "                            .apply(lambda x: (int((x.replace('K', '')))/1000) if 'K' in x else x)\\\n",
    "                            .astype(float)\n",
    "                            "
   ]
  },
  {
   "cell_type": "code",
   "execution_count": 188,
   "metadata": {
    "ExecuteTime": {
     "end_time": "2020-03-31T15:38:12.310031Z",
     "start_time": "2020-03-31T15:38:12.298216Z"
    }
   },
   "outputs": [],
   "source": [
    "df.drop('size_bytes', axis=1, inplace=True)"
   ]
  },
  {
   "cell_type": "markdown",
   "metadata": {},
   "source": [
    "**Increasing memory (MB) will increase the user ratings. This effect becomes less obvious in ratings 4.5 and above**"
   ]
  },
  {
   "cell_type": "code",
   "execution_count": 189,
   "metadata": {
    "ExecuteTime": {
     "end_time": "2020-03-31T15:38:13.408802Z",
     "start_time": "2020-03-31T15:38:12.504403Z"
    }
   },
   "outputs": [
    {
     "data": {
      "image/png": "[encoded data removed]",
      "text/plain": [
       "<Figure size 720x360 with 1 Axes>"
      ]
     },
     "metadata": {
      "needs_background": "light"
     },
     "output_type": "display_data"
    }
   ],
   "source": [
    "fig, ax = plt.subplots(figsize=(10,5))\n",
    "sns.barplot(x=df.user_rating_ver, y=df.mega_bytes)\n",
    "ax.set_xticklabels(ax.get_xticklabels(), rotation=40, ha=\"right\")\n",
    "plt.tight_layout()\n",
    "plt.show()"
   ]
  },
  {
   "cell_type": "markdown",
   "metadata": {
    "ExecuteTime": {
     "end_time": "2020-03-27T16:56:41.779579Z",
     "start_time": "2020-03-27T16:56:41.769595Z"
    }
   },
   "source": [
    "**Medical, Game and Education apps have largest average sizes (MB)**"
   ]
  },
  {
   "cell_type": "code",
   "execution_count": 190,
   "metadata": {
    "ExecuteTime": {
     "end_time": "2020-03-31T15:38:14.992388Z",
     "start_time": "2020-03-31T15:38:13.413615Z"
    }
   },
   "outputs": [
    {
     "data": {
      "image/png": "[encoded data removed]",
      "text/plain": [
       "<Figure size 720x360 with 1 Axes>"
      ]
     },
     "metadata": {
      "needs_background": "light"
     },
     "output_type": "display_data"
    }
   ],
   "source": [
    "temp = df.groupby('prime_genre')[['mega_bytes']].aggregate(np.mean).reset_index().sort_values('mega_bytes', ascending=False)\n",
    "\n",
    "fig, ax = plt.subplots(figsize=(10,5))\n",
    "sns.barplot(x=df.prime_genre, y=df.mega_bytes, order=temp['prime_genre'])\n",
    "ax.set_xticklabels(ax.get_xticklabels(), rotation=40, ha=\"right\")\n",
    "plt.tight_layout()\n",
    "plt.show()"
   ]
  },
  {
   "cell_type": "markdown",
   "metadata": {},
   "source": [
    "#### Price distribution "
   ]
  },
  {
   "cell_type": "code",
   "execution_count": 191,
   "metadata": {
    "ExecuteTime": {
     "end_time": "2020-03-31T15:38:15.649055Z",
     "start_time": "2020-03-31T15:38:14.998677Z"
    }
   },
   "outputs": [
    {
     "data": {
      "image/png": "[encoded data removed]",
      "text/plain": [
       "<Figure size 576x360 with 1 Axes>"
      ]
     },
     "metadata": {
      "needs_background": "light"
     },
     "output_type": "display_data"
    }
   ],
   "source": [
    "fig, ax = plt.subplots(figsize = (8,5))\n",
    "df[df['price']>0].price.hist(bins = 100, ax = ax);\n",
    "ax.set_yscale(\"log\")\n",
    "ax.set_title(\"Price of App ($)\")\n",
    "plt.show()"
   ]
  },
  {
   "cell_type": "markdown",
   "metadata": {},
   "source": [
    "Here, we can see a number of outliers. I may consider removing them later on during modelling. ($30 and above)."
   ]
  },
  {
   "cell_type": "code",
   "execution_count": 192,
   "metadata": {
    "ExecuteTime": {
     "end_time": "2020-03-31T15:38:15.663349Z",
     "start_time": "2020-03-31T15:38:15.654089Z"
    }
   },
   "outputs": [],
   "source": [
    "temp = df[df['price'] <= 30]"
   ]
  },
  {
   "cell_type": "code",
   "execution_count": 193,
   "metadata": {
    "ExecuteTime": {
     "end_time": "2020-03-31T15:38:16.957317Z",
     "start_time": "2020-03-31T15:38:15.668917Z"
    }
   },
   "outputs": [
    {
     "data": {
      "image/png": "[encoded data removed]",
      "text/plain": [
       "<Figure size 576x360 with 1 Axes>"
      ]
     },
     "metadata": {
      "needs_background": "light"
     },
     "output_type": "display_data"
    }
   ],
   "source": [
    "#what the distribution would look like if outliers were removed. \n",
    "fig, ax = plt.subplots(figsize = (8,5))\n",
    "temp[temp['price']>0].price.hist(bins = 100, ax = ax);\n",
    "ax.set_yscale(\"log\")\n",
    "ax.set_title(\"Price of App ($)\")\n",
    "plt.show()"
   ]
  },
  {
   "cell_type": "code",
   "execution_count": 194,
   "metadata": {
    "ExecuteTime": {
     "end_time": "2020-03-31T15:38:16.974525Z",
     "start_time": "2020-03-31T15:38:16.961329Z"
    }
   },
   "outputs": [
    {
     "name": "stdout",
     "output_type": "stream",
     "text": [
      "4056 of the total 7197 are free apps\n"
     ]
    }
   ],
   "source": [
    "print('{} of the total {} are free apps'.format(df[df['price'] == 0].shape[0],df.shape[0]))"
   ]
  },
  {
   "cell_type": "markdown",
   "metadata": {},
   "source": [
    "Extract whether the app is free or not"
   ]
  },
  {
   "cell_type": "code",
   "execution_count": 195,
   "metadata": {
    "ExecuteTime": {
     "end_time": "2020-03-31T15:38:16.992703Z",
     "start_time": "2020-03-31T15:38:16.978867Z"
    }
   },
   "outputs": [],
   "source": [
    "df['free_app'] = df.price.apply(lambda x: 1 if x == 0 else 0)"
   ]
  },
  {
   "cell_type": "markdown",
   "metadata": {},
   "source": [
    "**The free apps are more likely to have higher user ratings**"
   ]
  },
  {
   "cell_type": "code",
   "execution_count": 196,
   "metadata": {
    "ExecuteTime": {
     "end_time": "2020-03-31T15:38:17.191295Z",
     "start_time": "2020-03-31T15:38:16.998946Z"
    }
   },
   "outputs": [
    {
     "data": {
      "image/png": "[encoded data removed]",
      "text/plain": [
       "<Figure size 432x288 with 1 Axes>"
      ]
     },
     "metadata": {
      "needs_background": "light"
     },
     "output_type": "display_data"
    }
   ],
   "source": [
    "df.groupby('user_rating_ver')[['free_app']].count().sort_values(by='free_app', ascending=False).plot(kind='barh');"
   ]
  },
  {
   "cell_type": "markdown",
   "metadata": {},
   "source": [
    "#### Rating counts for all and current versions"
   ]
  },
  {
   "cell_type": "code",
   "execution_count": 197,
   "metadata": {
    "ExecuteTime": {
     "end_time": "2020-03-31T15:38:18.271075Z",
     "start_time": "2020-03-31T15:38:17.195932Z"
    }
   },
   "outputs": [
    {
     "data": {
      "image/png": "[encoded data removed]",
      "text/plain": [
       "<Figure size 1080x360 with 2 Axes>"
      ]
     },
     "metadata": {
      "needs_background": "light"
     },
     "output_type": "display_data"
    }
   ],
   "source": [
    "fig, ax = plt.subplots(ncols = 2, figsize = (15,5))\n",
    "df[df['rating_count_tot']>0].rating_count_tot.hist(bins = 100, ax = ax[0]);\n",
    "df[df['rating_count_ver']>0].rating_count_ver.hist(bins = 100, ax = ax[1]);\n",
    "\n",
    "ax[0].set_yscale(\"log\")\n",
    "ax[1].set_yscale(\"log\")\n",
    "\n",
    "\n",
    "ax[0].set_title(\"Rating count for all versions\")\n",
    "ax[1].set_title(\"Rating count for current version\")\n",
    "plt.show()"
   ]
  },
  {
   "cell_type": "markdown",
   "metadata": {},
   "source": [
    "#### Avg ratings for all and current versions "
   ]
  },
  {
   "cell_type": "markdown",
   "metadata": {},
   "source": [
    "**Avg ratings grow exponentially in size until 4.5** "
   ]
  },
  {
   "cell_type": "code",
   "execution_count": 198,
   "metadata": {
    "ExecuteTime": {
     "end_time": "2020-03-31T15:38:18.890789Z",
     "start_time": "2020-03-31T15:38:18.276032Z"
    }
   },
   "outputs": [
    {
     "data": {
      "image/png": "[encoded data removed]",
      "text/plain": [
       "<Figure size 1080x360 with 2 Axes>"
      ]
     },
     "metadata": {
      "needs_background": "light"
     },
     "output_type": "display_data"
    }
   ],
   "source": [
    "fig, ax = plt.subplots(ncols = 2, figsize = (15,5))\n",
    "df[df['user_rating']>0].user_rating.hist(bins = 100, ax = ax[0]);\n",
    "df[df['user_rating_ver']>0].user_rating_ver.hist(bins = 100, ax = ax[1]);\n",
    "\n",
    "ax[0].set_title(\"Avg user_rating for all versions\")\n",
    "ax[1].set_title(\"Avg user_rating for current versions\")\n",
    "plt.show()"
   ]
  },
  {
   "cell_type": "code",
   "execution_count": 199,
   "metadata": {
    "ExecuteTime": {
     "end_time": "2020-03-31T15:38:18.907765Z",
     "start_time": "2020-03-31T15:38:18.894910Z"
    }
   },
   "outputs": [
    {
     "name": "stdout",
     "output_type": "stream",
     "text": [
      "There are 929 cases where NO ratings were made accross any app version\n"
     ]
    }
   ],
   "source": [
    "print('There are {} cases where NO ratings were made accross any app version'\n",
    "      .format(df[(df['rating_count_tot'] == 0) & (df['user_rating'] == 0)].shape[0]))"
   ]
  },
  {
   "cell_type": "markdown",
   "metadata": {},
   "source": [
    "**In the instances of 0 ratings accross different app versions:**\n",
    "\n",
    "- This could be due to the poor quality of the app, no rating feature or they were foreign; the API may not have picked up their ratings. "
   ]
  },
  {
   "cell_type": "markdown",
   "metadata": {},
   "source": [
    "#### App Version"
   ]
  },
  {
   "cell_type": "markdown",
   "metadata": {},
   "source": [
    "Drop all non-digits "
   ]
  },
  {
   "cell_type": "code",
   "execution_count": 200,
   "metadata": {
    "ExecuteTime": {
     "end_time": "2020-03-31T15:38:18.939877Z",
     "start_time": "2020-03-31T15:38:18.913294Z"
    }
   },
   "outputs": [],
   "source": [
    "df.ver = df.ver.apply(lambda x: re.sub('[^0-9.]', '', str(x)))"
   ]
  },
  {
   "cell_type": "markdown",
   "metadata": {},
   "source": [
    "Most common versions have a 1 as their major component (first digit)"
   ]
  },
  {
   "cell_type": "code",
   "execution_count": 201,
   "metadata": {
    "ExecuteTime": {
     "end_time": "2020-03-31T15:38:19.435022Z",
     "start_time": "2020-03-31T15:38:19.420033Z"
    }
   },
   "outputs": [
    {
     "data": {
      "text/plain": [
       "1.0      317\n",
       "1.1      267\n",
       "1.2      218\n",
       "1.0.0    187\n",
       "1.0.1    180\n",
       "Name: ver, dtype: int64"
      ]
     },
     "execution_count": 201,
     "metadata": {},
     "output_type": "execute_result"
    }
   ],
   "source": [
    "df.ver.value_counts().head()"
   ]
  },
  {
   "cell_type": "markdown",
   "metadata": {},
   "source": [
    "**1.5.5 version is most expensive on avg**"
   ]
  },
  {
   "cell_type": "code",
   "execution_count": 202,
   "metadata": {
    "ExecuteTime": {
     "end_time": "2020-03-31T15:38:20.985302Z",
     "start_time": "2020-03-31T15:38:20.487335Z"
    }
   },
   "outputs": [
    {
     "data": {
      "image/png": "[encoded data removed]",
      "text/plain": [
       "<Figure size 432x288 with 1 Axes>"
      ]
     },
     "metadata": {
      "needs_background": "light"
     },
     "output_type": "display_data"
    }
   ],
   "source": [
    "df.groupby('ver')[['price']].mean().sort_values(by='price', ascending=False).head(20).plot(kind='barh');"
   ]
  },
  {
   "cell_type": "markdown",
   "metadata": {
    "ExecuteTime": {
     "end_time": "2020-03-25T10:21:17.478122Z",
     "start_time": "2020-03-25T10:21:17.436341Z"
    }
   },
   "source": [
    "#### Content Age rating "
   ]
  },
  {
   "cell_type": "markdown",
   "metadata": {},
   "source": [
    "Rename for clearer age buckets"
   ]
  },
  {
   "cell_type": "code",
   "execution_count": 203,
   "metadata": {
    "ExecuteTime": {
     "end_time": "2020-03-31T15:38:21.044643Z",
     "start_time": "2020-03-31T15:38:21.036478Z"
    }
   },
   "outputs": [],
   "source": [
    "df['cont_rating'] = df['cont_rating']\\\n",
    "                    .apply({'4+':'4-8', '9+':'9-11', '12+': '12-16', '17+': '17+'}.get)"
   ]
  },
  {
   "cell_type": "markdown",
   "metadata": {},
   "source": [
    "Most app ratings appear to be made for the lowest age range (4-8 years)"
   ]
  },
  {
   "cell_type": "code",
   "execution_count": 204,
   "metadata": {
    "ExecuteTime": {
     "end_time": "2020-03-31T15:38:21.541813Z",
     "start_time": "2020-03-31T15:38:21.396306Z"
    }
   },
   "outputs": [
    {
     "data": {
      "image/png": "[encoded data removed]",
      "text/plain": [
       "<Figure size 432x288 with 1 Axes>"
      ]
     },
     "metadata": {
      "needs_background": "light"
     },
     "output_type": "display_data"
    }
   ],
   "source": [
    "df['cont_rating'].value_counts().plot(kind='barh');"
   ]
  },
  {
   "cell_type": "markdown",
   "metadata": {},
   "source": [
    "**Avg user ratings and price are highest in the 9-11 age group**"
   ]
  },
  {
   "cell_type": "code",
   "execution_count": 205,
   "metadata": {
    "ExecuteTime": {
     "end_time": "2020-03-31T15:38:22.203424Z",
     "start_time": "2020-03-31T15:38:22.039376Z"
    }
   },
   "outputs": [
    {
     "data": {
      "image/png": "[encoded data removed]",
      "text/plain": [
       "<Figure size 432x288 with 1 Axes>"
      ]
     },
     "metadata": {
      "needs_background": "light"
     },
     "output_type": "display_data"
    }
   ],
   "source": [
    "df.groupby('cont_rating')[['price']].mean().sort_values(by=['price'], ascending=False).plot(kind='barh');"
   ]
  },
  {
   "cell_type": "markdown",
   "metadata": {},
   "source": [
    "**Avg user ratings have the largest spread in 17+ age group - This is interesting; it suggests that an older age group are likely to leave a larger range of reviews than younger age groups.**"
   ]
  },
  {
   "cell_type": "code",
   "execution_count": 207,
   "metadata": {
    "ExecuteTime": {
     "end_time": "2020-03-31T15:38:23.443739Z",
     "start_time": "2020-03-31T15:38:23.228064Z"
    }
   },
   "outputs": [
    {
     "data": {
      "image/png": "[encoded data removed]",
      "text/plain": [
       "<Figure size 576x360 with 1 Axes>"
      ]
     },
     "metadata": {
      "needs_background": "light"
     },
     "output_type": "display_data"
    }
   ],
   "source": [
    "fig, ax = plt.subplots(figsize=(8,5))\n",
    "sns.boxplot(x=df.cont_rating, y=df.user_rating_ver, order=['4-8','9-11','12-16', '17+']);"
   ]
  },
  {
   "cell_type": "markdown",
   "metadata": {},
   "source": [
    "#### Prime genre"
   ]
  },
  {
   "cell_type": "code",
   "execution_count": 208,
   "metadata": {
    "ExecuteTime": {
     "end_time": "2020-03-31T15:38:23.757988Z",
     "start_time": "2020-03-31T15:38:23.745605Z"
    }
   },
   "outputs": [
    {
     "data": {
      "text/plain": [
       "Games            3862\n",
       "Entertainment     535\n",
       "Education         453\n",
       "Photo & Video     349\n",
       "Utilities         248\n",
       "Name: prime_genre, dtype: int64"
      ]
     },
     "execution_count": 208,
     "metadata": {},
     "output_type": "execute_result"
    }
   ],
   "source": [
    "df.prime_genre.value_counts().head()"
   ]
  },
  {
   "cell_type": "markdown",
   "metadata": {},
   "source": [
    "**Music, productivity, game and photo apps have highest ratings and finance having lowest**"
   ]
  },
  {
   "cell_type": "code",
   "execution_count": 209,
   "metadata": {
    "ExecuteTime": {
     "end_time": "2020-03-31T15:38:25.615461Z",
     "start_time": "2020-03-31T15:38:24.190135Z"
    }
   },
   "outputs": [
    {
     "data": {
      "image/png": "[encoded data removed]",
      "text/plain": [
       "<Figure size 720x360 with 1 Axes>"
      ]
     },
     "metadata": {
      "needs_background": "light"
     },
     "output_type": "display_data"
    }
   ],
   "source": [
    "temp = df.groupby([\"prime_genre\"])['user_rating_ver'].aggregate(np.mean).reset_index().sort_values('user_rating_ver', ascending=False)\n",
    "\n",
    "fig, ax = plt.subplots(figsize=(10,5))\n",
    "sns.barplot(x=df.prime_genre, y=df.user_rating_ver, order=temp['prime_genre'])\n",
    "ax.set_xticklabels(ax.get_xticklabels(), rotation=40, ha=\"right\")\n",
    "plt.tight_layout()\n",
    "plt.show()"
   ]
  },
  {
   "cell_type": "markdown",
   "metadata": {},
   "source": [
    "**Medical apps are most expensive and shopping is the least**"
   ]
  },
  {
   "cell_type": "code",
   "execution_count": 210,
   "metadata": {
    "ExecuteTime": {
     "end_time": "2020-03-31T15:38:27.266344Z",
     "start_time": "2020-03-31T15:38:25.832056Z"
    }
   },
   "outputs": [
    {
     "data": {
      "image/png": "[encoded data removed]",
      "text/plain": [
       "<Figure size 720x360 with 1 Axes>"
      ]
     },
     "metadata": {
      "needs_background": "light"
     },
     "output_type": "display_data"
    }
   ],
   "source": [
    "temp = df.groupby([\"prime_genre\"])['price'].aggregate(np.mean).reset_index().sort_values('price', ascending=False)\n",
    "\n",
    "fig, ax = plt.subplots(figsize=(10,5))\n",
    "sns.barplot(x=df.prime_genre, y=df.price, order=temp['prime_genre'])\n",
    "ax.set_xticklabels(ax.get_xticklabels(), rotation=40, ha=\"right\")\n",
    "plt.tight_layout()\n",
    "plt.show()"
   ]
  },
  {
   "cell_type": "markdown",
   "metadata": {},
   "source": [
    "**How price distribution gets effected by category**"
   ]
  },
  {
   "cell_type": "code",
   "execution_count": 274,
   "metadata": {
    "ExecuteTime": {
     "end_time": "2020-04-01T16:55:49.833181Z",
     "start_time": "2020-04-01T16:55:48.199545Z"
    }
   },
   "outputs": [
    {
     "data": {
      "image/png": "[encoded data removed]",
      "text/plain": [
       "<Figure size 1080x720 with 4 Axes>"
      ]
     },
     "metadata": {
      "needs_background": "light"
     },
     "output_type": "display_data"
    }
   ],
   "source": [
    "yrange = [0,25]\n",
    "fsize =15\n",
    "\n",
    "plt.figure(figsize=(15,10))\n",
    "\n",
    "plt.subplot(4,1,1)\n",
    "plt.xlim(yrange)\n",
    "medical = df[df.prime_genre=='Medical']\n",
    "sns.stripplot(data=medical,y='price',jitter= True , orient ='h',size=6,color='#eb5e66')\n",
    "plt.title('Medical',fontsize=fsize)\n",
    "plt.xlabel('') \n",
    "\n",
    "plt.subplot(4,1,2)\n",
    "plt.xlim(yrange)\n",
    "ent = df[df.prime_genre=='Entertainment']\n",
    "sns.stripplot(data=ent,y='price',jitter= True ,orient ='h',size=6,color='#ff8300')\n",
    "plt.title('Entertainment',fontsize=fsize)\n",
    "plt.xlabel('') \n",
    "\n",
    "plt.subplot(4,1,3)\n",
    "plt.xlim(yrange)\n",
    "edu = df[df.prime_genre=='Education']\n",
    "sns.stripplot(data=edu,y='price',jitter= True ,orient ='h' ,size=6,color='#20B2AA')\n",
    "plt.title('Education',fontsize=fsize)\n",
    "plt.xlabel('') \n",
    "\n",
    "plt.subplot(4,1,4)\n",
    "plt.xlim(yrange)\n",
    "games = df[df.prime_genre=='Games']\n",
    "sns.stripplot(data=games,y='price',jitter= True  ,orient ='h',size=6,color='#b84efd')\n",
    "plt.title('Games',fontsize=fsize)\n",
    "plt.xlabel('') \n",
    "\n",
    "plt.show()"
   ]
  },
  {
   "cell_type": "markdown",
   "metadata": {},
   "source": [
    "#### Supporting devices "
   ]
  },
  {
   "cell_type": "code",
   "execution_count": 211,
   "metadata": {
    "ExecuteTime": {
     "end_time": "2020-03-31T15:38:27.285414Z",
     "start_time": "2020-03-31T15:38:27.269518Z"
    }
   },
   "outputs": [
    {
     "data": {
      "text/plain": [
       "37    3263\n",
       "38    1912\n",
       "40    1142\n",
       "43     371\n",
       "24     270\n",
       "Name: sup_devices.num, dtype: int64"
      ]
     },
     "execution_count": 211,
     "metadata": {},
     "output_type": "execute_result"
    }
   ],
   "source": [
    "df['sup_devices.num'].value_counts().head()"
   ]
  },
  {
   "cell_type": "markdown",
   "metadata": {},
   "source": [
    "**Not any obvious patterns found between the number of supporting devices and Ratings, Price and Memory**"
   ]
  },
  {
   "cell_type": "markdown",
   "metadata": {
    "ExecuteTime": {
     "end_time": "2020-03-25T11:20:36.985299Z",
     "start_time": "2020-03-25T11:20:36.951543Z"
    }
   },
   "source": [
    "#### Screenshots on display "
   ]
  },
  {
   "cell_type": "markdown",
   "metadata": {},
   "source": [
    "**Most apps have either 5 screenshots or 0**"
   ]
  },
  {
   "cell_type": "code",
   "execution_count": 212,
   "metadata": {
    "ExecuteTime": {
     "end_time": "2020-03-31T15:38:28.880854Z",
     "start_time": "2020-03-31T15:38:28.732694Z"
    }
   },
   "outputs": [
    {
     "data": {
      "image/png": "[encoded data removed]",
      "text/plain": [
       "<Figure size 432x288 with 1 Axes>"
      ]
     },
     "metadata": {
      "needs_background": "light"
     },
     "output_type": "display_data"
    }
   ],
   "source": [
    "df['ipadSc_urls.num'].value_counts().plot(kind='barh');"
   ]
  },
  {
   "cell_type": "markdown",
   "metadata": {},
   "source": [
    "**Apps with more screenshots have higher user ratings, suggesting that display of app is important. Research suggests this this is a critical factor**"
   ]
  },
  {
   "cell_type": "code",
   "execution_count": 213,
   "metadata": {
    "ExecuteTime": {
     "end_time": "2020-03-31T15:38:29.719400Z",
     "start_time": "2020-03-31T15:38:29.070978Z"
    }
   },
   "outputs": [
    {
     "data": {
      "image/png": "[encoded data removed]",
      "text/plain": [
       "<Figure size 720x360 with 1 Axes>"
      ]
     },
     "metadata": {
      "needs_background": "light"
     },
     "output_type": "display_data"
    }
   ],
   "source": [
    "fig, ax = plt.subplots(figsize=(10,5))\n",
    "sns.barplot(x=df['ipadSc_urls.num'], y=df.user_rating_ver)\n",
    "ax.set_xticklabels(ax.get_xticklabels(), rotation=40, ha=\"right\")\n",
    "plt.tight_layout()\n",
    "plt.show()"
   ]
  },
  {
   "cell_type": "markdown",
   "metadata": {},
   "source": [
    "#### Number of supported languages"
   ]
  },
  {
   "cell_type": "markdown",
   "metadata": {},
   "source": [
    "**Majority of apps (3767) in this dataset are only supported by one language**"
   ]
  },
  {
   "cell_type": "code",
   "execution_count": 214,
   "metadata": {
    "ExecuteTime": {
     "end_time": "2020-03-31T15:38:29.744118Z",
     "start_time": "2020-03-31T15:38:29.727436Z"
    }
   },
   "outputs": [
    {
     "data": {
      "text/plain": [
       "1     3767\n",
       "2      675\n",
       "11     266\n",
       "3      217\n",
       "5      207\n",
       "Name: lang.num, dtype: int64"
      ]
     },
     "execution_count": 214,
     "metadata": {},
     "output_type": "execute_result"
    }
   ],
   "source": [
    "df['lang.num'].value_counts().head()"
   ]
  },
  {
   "cell_type": "markdown",
   "metadata": {},
   "source": [
    "**Number of supporting languages did not seem to have much of an effect on price or memory. However, increasing the number of supporting languages did increase the user ratings - *Roughly 5 languages is reccomended***"
   ]
  },
  {
   "cell_type": "code",
   "execution_count": 215,
   "metadata": {
    "ExecuteTime": {
     "end_time": "2020-03-31T15:38:33.269833Z",
     "start_time": "2020-03-31T15:38:30.176247Z"
    }
   },
   "outputs": [
    {
     "data": {
      "image/png": "[encoded data removed]",
      "text/plain": [
       "<Figure size 720x360 with 1 Axes>"
      ]
     },
     "metadata": {
      "needs_background": "light"
     },
     "output_type": "display_data"
    }
   ],
   "source": [
    "temp = df.groupby([\"lang.num\"])['user_rating_ver'].aggregate(np.mean).reset_index().sort_values('user_rating_ver', ascending=False)\n",
    "\n",
    "fig, ax = plt.subplots(figsize=(10,5))\n",
    "sns.barplot(x=df['lang.num'], y=df.user_rating_ver, order=temp['lang.num'])\n",
    "ax.set_xticklabels(ax.get_xticklabels(), rotation=40, ha=\"right\")\n",
    "plt.tight_layout()\n",
    "plt.show()"
   ]
  },
  {
   "cell_type": "markdown",
   "metadata": {},
   "source": [
    "#### Vpp Device Based Licensing Enabled variable"
   ]
  },
  {
   "cell_type": "markdown",
   "metadata": {},
   "source": [
    "The Volume Purchase Program (VPP) binary variable: Apple portal for businesses and schools to purchase and license apps and books in volume.\n",
    "\n",
    "Majority of apps hold this license (50 do not) "
   ]
  },
  {
   "cell_type": "code",
   "execution_count": 216,
   "metadata": {
    "ExecuteTime": {
     "end_time": "2020-03-31T15:38:33.288324Z",
     "start_time": "2020-03-31T15:38:33.274501Z"
    }
   },
   "outputs": [
    {
     "data": {
      "text/plain": [
       "1    7147\n",
       "0      50\n",
       "Name: vpp_lic, dtype: int64"
      ]
     },
     "execution_count": 216,
     "metadata": {},
     "output_type": "execute_result"
    }
   ],
   "source": [
    "df['vpp_lic'].value_counts()"
   ]
  },
  {
   "cell_type": "markdown",
   "metadata": {
    "ExecuteTime": {
     "end_time": "2020-03-27T17:51:36.820875Z",
     "start_time": "2020-03-27T17:51:36.802028Z"
    }
   },
   "source": [
    "**The apps that do not hold this license:**\n",
    "- Have lower user ratings, are more expensive and hold more memory.\n",
    "- Majority are foreign catalogs apps"
   ]
  },
  {
   "cell_type": "code",
   "execution_count": 217,
   "metadata": {
    "ExecuteTime": {
     "end_time": "2020-03-31T15:38:33.321512Z",
     "start_time": "2020-03-31T15:38:33.294189Z"
    }
   },
   "outputs": [
    {
     "data": {
      "text/html": [
       "<div>\n",
       "<style scoped>\n",
       "    .dataframe tbody tr th:only-of-type {\n",
       "        vertical-align: middle;\n",
       "    }\n",
       "\n",
       "    .dataframe tbody tr th {\n",
       "        vertical-align: top;\n",
       "    }\n",
       "\n",
       "    .dataframe thead th {\n",
       "        text-align: right;\n",
       "    }\n",
       "</style>\n",
       "<table border=\"1\" class=\"dataframe\">\n",
       "  <thead>\n",
       "    <tr style=\"text-align: right;\">\n",
       "      <th></th>\n",
       "      <th>vpp_lic</th>\n",
       "    </tr>\n",
       "    <tr>\n",
       "      <th>prime_genre</th>\n",
       "      <th></th>\n",
       "    </tr>\n",
       "  </thead>\n",
       "  <tbody>\n",
       "    <tr>\n",
       "      <td>Catalogs</td>\n",
       "      <td>10</td>\n",
       "    </tr>\n",
       "    <tr>\n",
       "      <td>Medical</td>\n",
       "      <td>23</td>\n",
       "    </tr>\n",
       "    <tr>\n",
       "      <td>Navigation</td>\n",
       "      <td>46</td>\n",
       "    </tr>\n",
       "    <tr>\n",
       "      <td>Business</td>\n",
       "      <td>57</td>\n",
       "    </tr>\n",
       "    <tr>\n",
       "      <td>Food &amp; Drink</td>\n",
       "      <td>63</td>\n",
       "    </tr>\n",
       "  </tbody>\n",
       "</table>\n",
       "</div>"
      ],
      "text/plain": [
       "              vpp_lic\n",
       "prime_genre          \n",
       "Catalogs           10\n",
       "Medical            23\n",
       "Navigation         46\n",
       "Business           57\n",
       "Food & Drink       63"
      ]
     },
     "execution_count": 217,
     "metadata": {},
     "output_type": "execute_result"
    }
   ],
   "source": [
    "df.groupby('prime_genre')[['vpp_lic']].count().sort_values(by='vpp_lic', ascending=True).head()"
   ]
  },
  {
   "cell_type": "code",
   "execution_count": 218,
   "metadata": {
    "ExecuteTime": {
     "end_time": "2020-03-31T15:38:33.369559Z",
     "start_time": "2020-03-31T15:38:33.327203Z"
    }
   },
   "outputs": [
    {
     "data": {
      "text/html": [
       "<div>\n",
       "<style scoped>\n",
       "    .dataframe tbody tr th:only-of-type {\n",
       "        vertical-align: middle;\n",
       "    }\n",
       "\n",
       "    .dataframe tbody tr th {\n",
       "        vertical-align: top;\n",
       "    }\n",
       "\n",
       "    .dataframe thead th {\n",
       "        text-align: right;\n",
       "    }\n",
       "</style>\n",
       "<table border=\"1\" class=\"dataframe\">\n",
       "  <thead>\n",
       "    <tr style=\"text-align: right;\">\n",
       "      <th></th>\n",
       "      <th>id</th>\n",
       "      <th>track_name</th>\n",
       "      <th>currency</th>\n",
       "      <th>price</th>\n",
       "      <th>rating_count_tot</th>\n",
       "      <th>rating_count_ver</th>\n",
       "      <th>user_rating</th>\n",
       "      <th>user_rating_ver</th>\n",
       "      <th>ver</th>\n",
       "      <th>cont_rating</th>\n",
       "      <th>prime_genre</th>\n",
       "      <th>sup_devices.num</th>\n",
       "      <th>ipadSc_urls.num</th>\n",
       "      <th>lang.num</th>\n",
       "      <th>vpp_lic</th>\n",
       "      <th>app_desc</th>\n",
       "      <th>mega_bytes</th>\n",
       "      <th>free_app</th>\n",
       "    </tr>\n",
       "  </thead>\n",
       "  <tbody>\n",
       "    <tr>\n",
       "      <td>7164</td>\n",
       "      <td>1181724803</td>\n",
       "      <td>ＣＲスーパー海物語ＩＮ沖縄４</td>\n",
       "      <td>USD</td>\n",
       "      <td>9.99</td>\n",
       "      <td>0</td>\n",
       "      <td>0</td>\n",
       "      <td>0.0</td>\n",
       "      <td>0.0</td>\n",
       "      <td>1.0.2</td>\n",
       "      <td>12-16</td>\n",
       "      <td>Games</td>\n",
       "      <td>40</td>\n",
       "      <td>0</td>\n",
       "      <td>1</td>\n",
       "      <td>0</td>\n",
       "      <td>【「海モード・マリンモード」が遊べる追加パック対応！】\\n\\n【説明】\\n■対応機種\\niP...</td>\n",
       "      <td>3000.0</td>\n",
       "      <td>0</td>\n",
       "    </tr>\n",
       "  </tbody>\n",
       "</table>\n",
       "</div>"
      ],
      "text/plain": [
       "              id      track_name currency  price  rating_count_tot  \\\n",
       "7164  1181724803  ＣＲスーパー海物語ＩＮ沖縄４      USD   9.99                 0   \n",
       "\n",
       "      rating_count_ver  user_rating  user_rating_ver    ver cont_rating  \\\n",
       "7164                 0          0.0              0.0  1.0.2       12-16   \n",
       "\n",
       "     prime_genre  sup_devices.num  ipadSc_urls.num  lang.num  vpp_lic  \\\n",
       "7164       Games               40                0         1        0   \n",
       "\n",
       "                                               app_desc  mega_bytes  free_app  \n",
       "7164  【「海モード・マリンモード」が遊べる追加パック対応！】\\n\\n【説明】\\n■対応機種\\niP...      3000.0         0  "
      ]
     },
     "execution_count": 218,
     "metadata": {},
     "output_type": "execute_result"
    }
   ],
   "source": [
    "df[df['vpp_lic'] == 0].tail(1)"
   ]
  },
  {
   "cell_type": "markdown",
   "metadata": {},
   "source": [
    "# Feature engineering\n",
    "\n",
    "- Drop redundant columns\n",
    "- Subset English apps \n",
    "- Extract version features \n",
    "- Engineer language based features (length, special lettering and capitals) from app name\n",
    "- Engineer language based features from description \n",
    "\n",
    "**Main caveats:** \n",
    "- Foreign apps \n",
    "- Messy column names "
   ]
  },
  {
   "cell_type": "markdown",
   "metadata": {},
   "source": [
    "Drop ID and currency as they are redundant and offer not additional information"
   ]
  },
  {
   "cell_type": "code",
   "execution_count": 219,
   "metadata": {
    "ExecuteTime": {
     "end_time": "2020-03-31T15:38:33.383622Z",
     "start_time": "2020-03-31T15:38:33.374059Z"
    }
   },
   "outputs": [],
   "source": [
    "df.drop(['id', 'currency'], axis=1, inplace=True)"
   ]
  },
  {
   "cell_type": "markdown",
   "metadata": {},
   "source": [
    "I want to first clean up track name column; I want to filter out additional information and prioritise just the name"
   ]
  },
  {
   "cell_type": "code",
   "execution_count": 220,
   "metadata": {
    "ExecuteTime": {
     "end_time": "2020-03-31T15:38:33.488733Z",
     "start_time": "2020-03-31T15:38:33.389270Z"
    }
   },
   "outputs": [],
   "source": [
    "df['app_name'] = df.track_name\\\n",
    "                    .str.split(' – ').str[0]\\\n",
    "                    .str.split(' - ').str[0]\\\n",
    "                    .str.split(' -').str[0]\\\n",
    "                    .str.split(': ').str[0]"
   ]
  },
  {
   "cell_type": "markdown",
   "metadata": {
    "ExecuteTime": {
     "end_time": "2020-03-26T10:33:48.337049Z",
     "start_time": "2020-03-26T10:33:48.324556Z"
    }
   },
   "source": [
    "For now I will ignore the rest of the title"
   ]
  },
  {
   "cell_type": "code",
   "execution_count": 221,
   "metadata": {
    "ExecuteTime": {
     "end_time": "2020-03-31T15:38:33.507648Z",
     "start_time": "2020-03-31T15:38:33.491956Z"
    }
   },
   "outputs": [],
   "source": [
    "df.drop('track_name', axis=1, inplace=True)"
   ]
  },
  {
   "cell_type": "markdown",
   "metadata": {},
   "source": [
    "Now I want to return a feature exploring whether the app has non-english characters"
   ]
  },
  {
   "cell_type": "code",
   "execution_count": 222,
   "metadata": {
    "ExecuteTime": {
     "end_time": "2020-03-31T15:38:35.672235Z",
     "start_time": "2020-03-31T15:38:35.662815Z"
    }
   },
   "outputs": [],
   "source": [
    "def cjk_detect(texts):\n",
    "    # korean\n",
    "    if re.search(\"[\\uac00-\\ud7a3]\", texts):\n",
    "        return \"ko\"\n",
    "    # japanese\n",
    "    if re.search(\"[\\u3040-\\u30ff]\", texts):\n",
    "        return \"ja\"\n",
    "    # chinese\n",
    "    if re.search(\"[\\u4e00-\\u9FFF]\", texts):\n",
    "        return \"zh\"\n",
    "    return 'English characters'"
   ]
  },
  {
   "cell_type": "code",
   "execution_count": 223,
   "metadata": {
    "ExecuteTime": {
     "end_time": "2020-03-31T15:38:36.108329Z",
     "start_time": "2020-03-31T15:38:36.061614Z"
    }
   },
   "outputs": [
    {
     "data": {
      "text/plain": [
       "English characters    6172\n",
       "ja                     549\n",
       "zh                     474\n",
       "ko                       2\n",
       "Name: foreign_char, dtype: int64"
      ]
     },
     "execution_count": 223,
     "metadata": {},
     "output_type": "execute_result"
    }
   ],
   "source": [
    "df['foreign_char'] = df['app_name'].apply(lambda x: cjk_detect(x))\n",
    "df.foreign_char.value_counts()"
   ]
  },
  {
   "cell_type": "markdown",
   "metadata": {},
   "source": [
    "For now I will subset all the apps with english characters "
   ]
  },
  {
   "cell_type": "code",
   "execution_count": 224,
   "metadata": {
    "ExecuteTime": {
     "end_time": "2020-03-31T15:38:37.028299Z",
     "start_time": "2020-03-31T15:38:37.009994Z"
    }
   },
   "outputs": [],
   "source": [
    "df = df[df['foreign_char'] == 'English characters']"
   ]
  },
  {
   "cell_type": "code",
   "execution_count": 225,
   "metadata": {
    "ExecuteTime": {
     "end_time": "2020-03-31T15:38:37.248574Z",
     "start_time": "2020-03-31T15:38:37.241156Z"
    }
   },
   "outputs": [],
   "source": [
    "df.drop('foreign_char', axis=1, inplace=True)"
   ]
  },
  {
   "cell_type": "code",
   "execution_count": 226,
   "metadata": {
    "ExecuteTime": {
     "end_time": "2020-03-31T15:38:37.749410Z",
     "start_time": "2020-03-31T15:38:37.740508Z"
    }
   },
   "outputs": [
    {
     "data": {
      "text/plain": [
       "(6172, 16)"
      ]
     },
     "execution_count": 226,
     "metadata": {},
     "output_type": "execute_result"
    }
   ],
   "source": [
    "df.shape "
   ]
  },
  {
   "cell_type": "markdown",
   "metadata": {},
   "source": [
    "App versions have 3 main components: major, minor and patch. I am going to focus on major component, which moniters major changes, like rewriting of an app. "
   ]
  },
  {
   "cell_type": "code",
   "execution_count": 227,
   "metadata": {
    "ExecuteTime": {
     "end_time": "2020-03-31T15:38:39.186766Z",
     "start_time": "2020-03-31T15:38:39.157920Z"
    }
   },
   "outputs": [
    {
     "name": "stdout",
     "output_type": "stream",
     "text": [
      "There are 10 apps that have version numbers that are in an unusual format, with a major version component larger   than 120.\n"
     ]
    }
   ],
   "source": [
    "df['major_ver'] = df.ver.apply(lambda x: str(x).split('.')[0]).astype(int)\\\n",
    "                    .apply(lambda x: 1 if x == 9999 else x)\\\n",
    "                    .apply(lambda x: 4 if x== 2013 else x)\\\n",
    "                    .apply(lambda x: np.nan if x> 120 else x)\n",
    "\n",
    "print(\"There are {} apps that have version numbers that are in an unusual format,\\\n",
    " with a major version component larger\\\n",
    "   than 120.\".format(df.major_ver.isnull().sum()))"
   ]
  },
  {
   "cell_type": "markdown",
   "metadata": {},
   "source": [
    "Impute these 10 remaining apps that have unusual format"
   ]
  },
  {
   "cell_type": "code",
   "execution_count": 228,
   "metadata": {
    "ExecuteTime": {
     "end_time": "2020-03-31T15:38:39.858761Z",
     "start_time": "2020-03-31T15:38:39.850333Z"
    }
   },
   "outputs": [],
   "source": [
    "df['major_ver'] = df['major_ver'].fillna(df.major_ver.median())"
   ]
  },
  {
   "cell_type": "markdown",
   "metadata": {},
   "source": [
    "Do apps with earlier/later versions (lower/higher major components), have higher ratings?"
   ]
  },
  {
   "cell_type": "code",
   "execution_count": 229,
   "metadata": {
    "ExecuteTime": {
     "end_time": "2020-03-31T15:38:40.453789Z",
     "start_time": "2020-03-31T15:38:40.209527Z"
    }
   },
   "outputs": [
    {
     "data": {
      "image/png": "[encoded data removed]",
      "text/plain": [
       "<Figure size 432x288 with 1 Axes>"
      ]
     },
     "metadata": {
      "needs_background": "light"
     },
     "output_type": "display_data"
    }
   ],
   "source": [
    "df.groupby('user_rating_ver')[['major_ver']].mean().sort_values(by='major_ver', ascending=False).plot(kind='barh');"
   ]
  },
  {
   "cell_type": "markdown",
   "metadata": {},
   "source": [
    "I would like to return the number of dots in the version. This may give an indication to how many changes and how much engineering has gone into the app."
   ]
  },
  {
   "cell_type": "code",
   "execution_count": 230,
   "metadata": {
    "ExecuteTime": {
     "end_time": "2020-03-31T15:38:40.582395Z",
     "start_time": "2020-03-31T15:38:40.561800Z"
    }
   },
   "outputs": [
    {
     "data": {
      "text/plain": [
       "3    3605\n",
       "2    2514\n",
       "1      29\n",
       "4      23\n",
       "5       1\n",
       "Name: length_ver, dtype: int64"
      ]
     },
     "execution_count": 230,
     "metadata": {},
     "output_type": "execute_result"
    }
   ],
   "source": [
    "df['length_ver'] = df.ver.apply(lambda x: len(str(x).split('.')))\n",
    "df.length_ver.value_counts()"
   ]
  },
  {
   "cell_type": "code",
   "execution_count": 231,
   "metadata": {
    "ExecuteTime": {
     "end_time": "2020-03-31T15:38:41.630799Z",
     "start_time": "2020-03-31T15:38:40.782646Z"
    }
   },
   "outputs": [
    {
     "data": {
      "image/png": "[encoded data removed]",
      "text/plain": [
       "<Figure size 432x288 with 1 Axes>"
      ]
     },
     "metadata": {
      "needs_background": "light"
     },
     "output_type": "display_data"
    }
   ],
   "source": [
    "sns.barplot(x = df.user_rating_ver, y=df.length_ver);"
   ]
  },
  {
   "cell_type": "code",
   "execution_count": 232,
   "metadata": {
    "ExecuteTime": {
     "end_time": "2020-03-31T15:38:41.646408Z",
     "start_time": "2020-03-31T15:38:41.635299Z"
    }
   },
   "outputs": [],
   "source": [
    "df.drop('ver', axis=1, inplace=True)"
   ]
  },
  {
   "cell_type": "markdown",
   "metadata": {},
   "source": [
    "Get the length name of the app"
   ]
  },
  {
   "cell_type": "code",
   "execution_count": 233,
   "metadata": {
    "ExecuteTime": {
     "end_time": "2020-03-31T15:38:43.199040Z",
     "start_time": "2020-03-31T15:38:43.174536Z"
    }
   },
   "outputs": [],
   "source": [
    "df['app_name_len'] = df.app_name.apply(lambda x: len(re.sub(\"[^0-9A-Za-z]\", \"\", x)) if str(x)==x else 0)"
   ]
  },
  {
   "cell_type": "markdown",
   "metadata": {},
   "source": [
    "**Research suggests that the shorter the length of the name, the more successful**"
   ]
  },
  {
   "cell_type": "code",
   "execution_count": 234,
   "metadata": {
    "ExecuteTime": {
     "end_time": "2020-03-31T15:38:44.900194Z",
     "start_time": "2020-03-31T15:38:44.108132Z"
    }
   },
   "outputs": [
    {
     "data": {
      "image/png": "[encoded data removed]",
      "text/plain": [
       "<Figure size 432x288 with 1 Axes>"
      ]
     },
     "metadata": {
      "needs_background": "light"
     },
     "output_type": "display_data"
    }
   ],
   "source": [
    "sns.barplot(x = df.user_rating_ver, y=df.app_name_len);"
   ]
  },
  {
   "cell_type": "markdown",
   "metadata": {},
   "source": [
    "Sticky letter count - memorable characters in a name"
   ]
  },
  {
   "cell_type": "code",
   "execution_count": 235,
   "metadata": {
    "ExecuteTime": {
     "end_time": "2020-03-31T15:38:47.454672Z",
     "start_time": "2020-03-31T15:38:47.404447Z"
    }
   },
   "outputs": [],
   "source": [
    "df['sticky_letter_count'] = df.app_name.\\\n",
    "                                apply(lambda x: (len(re.sub(\"[^kKyYzZxX]\", \"\", x))) if str(x)==x else 0).\\\n",
    "                                apply(lambda x: 1 if x>0 else 0)"
   ]
  },
  {
   "cell_type": "markdown",
   "metadata": {},
   "source": [
    "Research suggests that ratings are better in apps that have sticky letters"
   ]
  },
  {
   "cell_type": "code",
   "execution_count": 236,
   "metadata": {
    "ExecuteTime": {
     "end_time": "2020-03-31T15:38:48.316434Z",
     "start_time": "2020-03-31T15:38:48.296180Z"
    }
   },
   "outputs": [
    {
     "data": {
      "text/html": [
       "<div>\n",
       "<style scoped>\n",
       "    .dataframe tbody tr th:only-of-type {\n",
       "        vertical-align: middle;\n",
       "    }\n",
       "\n",
       "    .dataframe tbody tr th {\n",
       "        vertical-align: top;\n",
       "    }\n",
       "\n",
       "    .dataframe thead th {\n",
       "        text-align: right;\n",
       "    }\n",
       "</style>\n",
       "<table border=\"1\" class=\"dataframe\">\n",
       "  <thead>\n",
       "    <tr style=\"text-align: right;\">\n",
       "      <th></th>\n",
       "      <th>user_rating_ver</th>\n",
       "    </tr>\n",
       "    <tr>\n",
       "      <th>sticky_letter_count</th>\n",
       "      <th></th>\n",
       "    </tr>\n",
       "  </thead>\n",
       "  <tbody>\n",
       "    <tr>\n",
       "      <td>0</td>\n",
       "      <td>3.620568</td>\n",
       "    </tr>\n",
       "    <tr>\n",
       "      <td>1</td>\n",
       "      <td>3.690286</td>\n",
       "    </tr>\n",
       "  </tbody>\n",
       "</table>\n",
       "</div>"
      ],
      "text/plain": [
       "                     user_rating_ver\n",
       "sticky_letter_count                 \n",
       "0                           3.620568\n",
       "1                           3.690286"
      ]
     },
     "execution_count": 236,
     "metadata": {},
     "output_type": "execute_result"
    }
   ],
   "source": [
    "df.groupby('sticky_letter_count')[['user_rating_ver']].mean()"
   ]
  },
  {
   "cell_type": "markdown",
   "metadata": {},
   "source": [
    "Return if word starts with a capital letter"
   ]
  },
  {
   "cell_type": "code",
   "execution_count": 237,
   "metadata": {
    "ExecuteTime": {
     "end_time": "2020-03-31T15:38:50.956101Z",
     "start_time": "2020-03-31T15:38:50.950566Z"
    }
   },
   "outputs": [],
   "source": [
    "def is_capital(cell):\n",
    "    if cell[0].isupper():\n",
    "        return 1\n",
    "    elif cell[1].isupper():\n",
    "        return 1\n",
    "    elif cell[0] == ':':\n",
    "        return 1\n",
    "    else:\n",
    "        return 0 "
   ]
  },
  {
   "cell_type": "code",
   "execution_count": 238,
   "metadata": {
    "ExecuteTime": {
     "end_time": "2020-03-31T15:38:51.247268Z",
     "start_time": "2020-03-31T15:38:51.230062Z"
    }
   },
   "outputs": [
    {
     "data": {
      "text/plain": [
       "1    6021\n",
       "0     151\n",
       "Name: first_letter_capital, dtype: int64"
      ]
     },
     "execution_count": 238,
     "metadata": {},
     "output_type": "execute_result"
    }
   ],
   "source": [
    "df['first_letter_capital'] = df.app_name.apply(lambda x: is_capital(x))\n",
    "df['first_letter_capital'].value_counts()"
   ]
  },
  {
   "cell_type": "markdown",
   "metadata": {},
   "source": [
    "**Research suggests that ratings are better in apps that have have a capital letter at the start**"
   ]
  },
  {
   "cell_type": "code",
   "execution_count": 239,
   "metadata": {
    "ExecuteTime": {
     "end_time": "2020-03-31T15:38:52.295129Z",
     "start_time": "2020-03-31T15:38:52.277925Z"
    }
   },
   "outputs": [
    {
     "data": {
      "text/html": [
       "<div>\n",
       "<style scoped>\n",
       "    .dataframe tbody tr th:only-of-type {\n",
       "        vertical-align: middle;\n",
       "    }\n",
       "\n",
       "    .dataframe tbody tr th {\n",
       "        vertical-align: top;\n",
       "    }\n",
       "\n",
       "    .dataframe thead th {\n",
       "        text-align: right;\n",
       "    }\n",
       "</style>\n",
       "<table border=\"1\" class=\"dataframe\">\n",
       "  <thead>\n",
       "    <tr style=\"text-align: right;\">\n",
       "      <th></th>\n",
       "      <th>first_letter_capital</th>\n",
       "    </tr>\n",
       "    <tr>\n",
       "      <th>user_rating_ver</th>\n",
       "      <th></th>\n",
       "    </tr>\n",
       "  </thead>\n",
       "  <tbody>\n",
       "    <tr>\n",
       "      <td>1.5</td>\n",
       "      <td>72</td>\n",
       "    </tr>\n",
       "    <tr>\n",
       "      <td>1.0</td>\n",
       "      <td>99</td>\n",
       "    </tr>\n",
       "    <tr>\n",
       "      <td>2.0</td>\n",
       "      <td>126</td>\n",
       "    </tr>\n",
       "    <tr>\n",
       "      <td>2.5</td>\n",
       "      <td>172</td>\n",
       "    </tr>\n",
       "    <tr>\n",
       "      <td>3.0</td>\n",
       "      <td>284</td>\n",
       "    </tr>\n",
       "  </tbody>\n",
       "</table>\n",
       "</div>"
      ],
      "text/plain": [
       "                 first_letter_capital\n",
       "user_rating_ver                      \n",
       "1.5                                72\n",
       "1.0                                99\n",
       "2.0                               126\n",
       "2.5                               172\n",
       "3.0                               284"
      ]
     },
     "execution_count": 239,
     "metadata": {},
     "output_type": "execute_result"
    }
   ],
   "source": [
    "df.groupby('user_rating_ver')[['first_letter_capital']].count().sort_values(by='first_letter_capital').head()"
   ]
  },
  {
   "cell_type": "markdown",
   "metadata": {},
   "source": [
    "Return the count of syllabels"
   ]
  },
  {
   "cell_type": "code",
   "execution_count": 240,
   "metadata": {
    "ExecuteTime": {
     "end_time": "2020-03-31T15:38:53.701639Z",
     "start_time": "2020-03-31T15:38:53.693312Z"
    }
   },
   "outputs": [],
   "source": [
    "def syllable_count(word):\n",
    "    try:\n",
    "        word = word.lower()\n",
    "        count = 0\n",
    "        vowels = \"aeiouy\"\n",
    "        if word[0] in vowels:\n",
    "            count += 1\n",
    "        for index in range(1, len(word)):\n",
    "            if word[index] in vowels and word[index - 1] not in vowels:\n",
    "                count += 1\n",
    "        if word.endswith(\"e\"):\n",
    "            count -= 1\n",
    "        if count == 0:\n",
    "            count += 1\n",
    "        return count\n",
    "    except:\n",
    "        return 0"
   ]
  },
  {
   "cell_type": "code",
   "execution_count": 241,
   "metadata": {
    "ExecuteTime": {
     "end_time": "2020-03-31T15:38:54.032823Z",
     "start_time": "2020-03-31T15:38:53.967921Z"
    }
   },
   "outputs": [],
   "source": [
    "df['syllable_count'] = df.app_name.apply(lambda x: syllable_count(re.sub(\"[^A-Za-z]\", \"\", x)) if str(x)==x else 0)"
   ]
  },
  {
   "cell_type": "markdown",
   "metadata": {},
   "source": [
    "**Research suggests that the ideal number of syllabals in a name is 1-3**"
   ]
  },
  {
   "cell_type": "code",
   "execution_count": 242,
   "metadata": {
    "ExecuteTime": {
     "end_time": "2020-03-31T15:38:56.148515Z",
     "start_time": "2020-03-31T15:38:55.342778Z"
    }
   },
   "outputs": [
    {
     "data": {
      "image/png": "[encoded data removed]",
      "text/plain": [
       "<Figure size 432x288 with 1 Axes>"
      ]
     },
     "metadata": {
      "needs_background": "light"
     },
     "output_type": "display_data"
    }
   ],
   "source": [
    "sns.barplot(x = df.user_rating_ver, y=df.syllable_count);"
   ]
  },
  {
   "cell_type": "markdown",
   "metadata": {},
   "source": [
    "Will drop app name for now"
   ]
  },
  {
   "cell_type": "code",
   "execution_count": 150,
   "metadata": {
    "ExecuteTime": {
     "end_time": "2020-03-31T15:31:02.519606Z",
     "start_time": "2020-03-31T15:31:02.466727Z"
    }
   },
   "outputs": [],
   "source": [
    "df.drop('app_name', axis=1, inplace=True)"
   ]
  },
  {
   "cell_type": "markdown",
   "metadata": {},
   "source": [
    "**Will now focus on the app description and its language features**\n",
    "\n",
    "- The description length\n",
    "- Contains capital words\n",
    "- Whether a URL is included\n",
    "- References to discounts in their description\n",
    "- Apps awards and achievements"
   ]
  },
  {
   "cell_type": "code",
   "execution_count": 243,
   "metadata": {
    "ExecuteTime": {
     "end_time": "2020-03-31T15:39:01.907451Z",
     "start_time": "2020-03-31T15:39:01.818467Z"
    }
   },
   "outputs": [],
   "source": [
    "#removing newline characters\n",
    "df.app_desc = df.app_desc.replace('\\n', ' ', regex=True)"
   ]
  },
  {
   "cell_type": "code",
   "execution_count": 244,
   "metadata": {
    "ExecuteTime": {
     "end_time": "2020-03-31T15:39:03.073683Z",
     "start_time": "2020-03-31T15:39:02.747242Z"
    }
   },
   "outputs": [
    {
     "data": {
      "text/plain": [
       "English characters    6029\n",
       "ja                      98\n",
       "zh                      24\n",
       "ko                      21\n",
       "Name: foreign_char, dtype: int64"
      ]
     },
     "execution_count": 244,
     "metadata": {},
     "output_type": "execute_result"
    }
   ],
   "source": [
    "#removing foreign descriptions \n",
    "df['foreign_char'] = df['app_desc'].apply(lambda x: cjk_detect(x))\n",
    "df.foreign_char.value_counts()"
   ]
  },
  {
   "cell_type": "code",
   "execution_count": 245,
   "metadata": {
    "ExecuteTime": {
     "end_time": "2020-03-31T15:39:03.760413Z",
     "start_time": "2020-03-31T15:39:03.742241Z"
    }
   },
   "outputs": [],
   "source": [
    "df = df[df['foreign_char'] == 'English characters']"
   ]
  },
  {
   "cell_type": "code",
   "execution_count": 246,
   "metadata": {
    "ExecuteTime": {
     "end_time": "2020-03-31T15:39:04.472198Z",
     "start_time": "2020-03-31T15:39:04.462759Z"
    }
   },
   "outputs": [],
   "source": [
    "df.drop('foreign_char', axis=1, inplace=True)"
   ]
  },
  {
   "cell_type": "code",
   "execution_count": 247,
   "metadata": {
    "ExecuteTime": {
     "end_time": "2020-03-31T15:39:05.048200Z",
     "start_time": "2020-03-31T15:39:05.039916Z"
    }
   },
   "outputs": [
    {
     "data": {
      "text/plain": [
       "(6029, 21)"
      ]
     },
     "execution_count": 247,
     "metadata": {},
     "output_type": "execute_result"
    }
   ],
   "source": [
    "df.shape"
   ]
  },
  {
   "cell_type": "markdown",
   "metadata": {},
   "source": [
    "Return description length"
   ]
  },
  {
   "cell_type": "code",
   "execution_count": 248,
   "metadata": {
    "ExecuteTime": {
     "end_time": "2020-03-31T15:39:07.924589Z",
     "start_time": "2020-03-31T15:39:07.221079Z"
    }
   },
   "outputs": [],
   "source": [
    "df['desc_len'] = df.app_desc.apply(lambda x: len(re.sub(\"[^0-9A-Za-z]\", \"\", x)) if str(x)==x else 0)"
   ]
  },
  {
   "cell_type": "markdown",
   "metadata": {},
   "source": [
    "**More lengthy descriptions are linked with higher rated apps**"
   ]
  },
  {
   "cell_type": "code",
   "execution_count": 249,
   "metadata": {
    "ExecuteTime": {
     "end_time": "2020-03-31T15:39:09.464937Z",
     "start_time": "2020-03-31T15:39:08.685194Z"
    }
   },
   "outputs": [
    {
     "data": {
      "image/png": "[encoded data removed]",
      "text/plain": [
       "<Figure size 432x288 with 1 Axes>"
      ]
     },
     "metadata": {
      "needs_background": "light"
     },
     "output_type": "display_data"
    }
   ],
   "source": [
    "sns.barplot(x = df.user_rating_ver, y=df.desc_len);"
   ]
  },
  {
   "cell_type": "markdown",
   "metadata": {},
   "source": [
    "Return uppercase ratio of words in description"
   ]
  },
  {
   "cell_type": "code",
   "execution_count": 250,
   "metadata": {
    "ExecuteTime": {
     "end_time": "2020-03-31T15:39:12.986275Z",
     "start_time": "2020-03-31T15:39:12.981141Z"
    }
   },
   "outputs": [],
   "source": [
    "def uppercase_ratio(cell):\n",
    "    try:  \n",
    "        return len(re.findall('[A-Z]', cell))/len(re.findall('[A-Za-z]', cell))\n",
    "    except:\n",
    "        pass"
   ]
  },
  {
   "cell_type": "code",
   "execution_count": 251,
   "metadata": {
    "ExecuteTime": {
     "end_time": "2020-03-31T15:39:15.130633Z",
     "start_time": "2020-03-31T15:39:13.233082Z"
    }
   },
   "outputs": [],
   "source": [
    "df['desc_uppercaseratio'] = df.app_desc.apply(lambda x: uppercase_ratio(x))"
   ]
  },
  {
   "cell_type": "markdown",
   "metadata": {},
   "source": [
    "**Descriptions with higher ratio of uppercase words may be taken less seriously by users and be deemed as less professional**"
   ]
  },
  {
   "cell_type": "code",
   "execution_count": 252,
   "metadata": {
    "ExecuteTime": {
     "end_time": "2020-03-31T15:39:15.947610Z",
     "start_time": "2020-03-31T15:39:15.134114Z"
    }
   },
   "outputs": [
    {
     "data": {
      "image/png": "[encoded data removed]",
      "text/plain": [
       "<Figure size 432x288 with 1 Axes>"
      ]
     },
     "metadata": {
      "needs_background": "light"
     },
     "output_type": "display_data"
    }
   ],
   "source": [
    "sns.barplot(x = df.user_rating_ver, y=df.desc_uppercaseratio);"
   ]
  },
  {
   "cell_type": "markdown",
   "metadata": {},
   "source": [
    "Return whether external URL is included "
   ]
  },
  {
   "cell_type": "code",
   "execution_count": 253,
   "metadata": {
    "ExecuteTime": {
     "end_time": "2020-03-31T15:39:15.962369Z",
     "start_time": "2020-03-31T15:39:15.958144Z"
    }
   },
   "outputs": [],
   "source": [
    "def URLS(cell):\n",
    "    return re.findall('(www.[a-zA-Z]*.com/[a-zA-Z]*)', cell)"
   ]
  },
  {
   "cell_type": "code",
   "execution_count": 254,
   "metadata": {
    "ExecuteTime": {
     "end_time": "2020-03-31T15:39:16.274025Z",
     "start_time": "2020-03-31T15:39:15.971390Z"
    }
   },
   "outputs": [],
   "source": [
    "df['desc_URL'] = df.app_desc\\\n",
    "                .apply(lambda x: URLS(x)).astype(str)\\\n",
    "                .apply(lambda x: 0 if x == '[]' else 1)"
   ]
  },
  {
   "cell_type": "code",
   "execution_count": 255,
   "metadata": {
    "ExecuteTime": {
     "end_time": "2020-03-31T15:39:16.291892Z",
     "start_time": "2020-03-31T15:39:16.279759Z"
    }
   },
   "outputs": [
    {
     "data": {
      "text/plain": [
       "0    4641\n",
       "1    1388\n",
       "Name: desc_URL, dtype: int64"
      ]
     },
     "execution_count": 255,
     "metadata": {},
     "output_type": "execute_result"
    }
   ],
   "source": [
    "df['desc_URL'].value_counts()"
   ]
  },
  {
   "cell_type": "markdown",
   "metadata": {},
   "source": [
    "**The higher rated apps seem to contain external URLs**"
   ]
  },
  {
   "cell_type": "code",
   "execution_count": 256,
   "metadata": {
    "ExecuteTime": {
     "end_time": "2020-03-31T15:39:16.827898Z",
     "start_time": "2020-03-31T15:39:16.598657Z"
    }
   },
   "outputs": [
    {
     "data": {
      "image/png": "[encoded data removed]",
      "text/plain": [
       "<Figure size 432x288 with 1 Axes>"
      ]
     },
     "metadata": {
      "needs_background": "light"
     },
     "output_type": "display_data"
    }
   ],
   "source": [
    "df.groupby('user_rating_ver')[['desc_URL']].count().sort_values(by='desc_URL', ascending=False).plot(kind='barh');"
   ]
  },
  {
   "cell_type": "markdown",
   "metadata": {},
   "source": [
    "Finding reference to free or discounted deals"
   ]
  },
  {
   "cell_type": "code",
   "execution_count": 257,
   "metadata": {
    "ExecuteTime": {
     "end_time": "2020-03-31T15:39:18.739064Z",
     "start_time": "2020-03-31T15:39:18.733442Z"
    }
   },
   "outputs": [],
   "source": [
    "deal_terms = ['deal', 'save', 'deals', 'discount', 'free', 'percent', '%', 'limited time', 'saving']"
   ]
  },
  {
   "cell_type": "code",
   "execution_count": 258,
   "metadata": {
    "ExecuteTime": {
     "end_time": "2020-03-31T15:39:18.955395Z",
     "start_time": "2020-03-31T15:39:18.949879Z"
    }
   },
   "outputs": [],
   "source": [
    "def check_for_deals(string):\n",
    "    strings = re.sub(\"[^a-z]\", ' ',string.lower()).split()\n",
    "    count = 0\n",
    "    for i in strings:\n",
    "        if i in deal_terms:\n",
    "            count +=1\n",
    "    return count"
   ]
  },
  {
   "cell_type": "code",
   "execution_count": 259,
   "metadata": {
    "ExecuteTime": {
     "end_time": "2020-03-31T15:39:20.516548Z",
     "start_time": "2020-03-31T15:39:19.183485Z"
    }
   },
   "outputs": [
    {
     "data": {
      "text/plain": [
       "0    3206\n",
       "1    1485\n",
       "2     661\n",
       "3     344\n",
       "4     148\n",
       "Name: desc_deals, dtype: int64"
      ]
     },
     "execution_count": 259,
     "metadata": {},
     "output_type": "execute_result"
    }
   ],
   "source": [
    "df['desc_deals'] = df.app_desc.apply(lambda x: check_for_deals(x))\n",
    "df['desc_deals'].value_counts().head()"
   ]
  },
  {
   "cell_type": "markdown",
   "metadata": {},
   "source": [
    "**Apps with reference to free in their description have higher ratings**"
   ]
  },
  {
   "cell_type": "code",
   "execution_count": 260,
   "metadata": {
    "ExecuteTime": {
     "end_time": "2020-03-31T15:39:20.742645Z",
     "start_time": "2020-03-31T15:39:20.519669Z"
    }
   },
   "outputs": [
    {
     "data": {
      "image/png": "[encoded data removed]",
      "text/plain": [
       "<Figure size 432x288 with 1 Axes>"
      ]
     },
     "metadata": {
      "needs_background": "light"
     },
     "output_type": "display_data"
    }
   ],
   "source": [
    "df.groupby('user_rating_ver')[['desc_deals']].mean().sort_values(by='desc_deals', ascending=False).plot(kind='barh');"
   ]
  },
  {
   "cell_type": "markdown",
   "metadata": {},
   "source": [
    "Finding reference to achievements and awards in the description"
   ]
  },
  {
   "cell_type": "code",
   "execution_count": 261,
   "metadata": {
    "ExecuteTime": {
     "end_time": "2020-03-31T15:39:22.170020Z",
     "start_time": "2020-03-31T15:39:22.165302Z"
    }
   },
   "outputs": [],
   "source": [
    "award_terms = ['award', 'awards', 'achieve', 'winner', 'win', 'competition', 'achievement', 'achievements', 'prize']"
   ]
  },
  {
   "cell_type": "code",
   "execution_count": 262,
   "metadata": {
    "ExecuteTime": {
     "end_time": "2020-03-31T15:39:22.454089Z",
     "start_time": "2020-03-31T15:39:22.448579Z"
    }
   },
   "outputs": [],
   "source": [
    "def check_for_awards(string):\n",
    "    strings = re.sub(\"[^a-z]\", ' ',string.lower()).split()\n",
    "    count = 0\n",
    "    for i in strings:\n",
    "        if i in award_terms:\n",
    "            count +=1\n",
    "    return count"
   ]
  },
  {
   "cell_type": "code",
   "execution_count": 263,
   "metadata": {
    "ExecuteTime": {
     "end_time": "2020-03-31T15:39:23.934949Z",
     "start_time": "2020-03-31T15:39:22.671764Z"
    }
   },
   "outputs": [
    {
     "data": {
      "text/plain": [
       "0    4330\n",
       "1    1010\n",
       "2     365\n",
       "3     149\n",
       "4      75\n",
       "Name: desc_awards, dtype: int64"
      ]
     },
     "execution_count": 263,
     "metadata": {},
     "output_type": "execute_result"
    }
   ],
   "source": [
    "df['desc_awards'] = df.app_desc.apply(lambda x: check_for_awards(x))\n",
    "df['desc_awards'].value_counts().head()"
   ]
  },
  {
   "cell_type": "markdown",
   "metadata": {},
   "source": [
    "**Apps with reference to awards in their description have higher ratings**"
   ]
  },
  {
   "cell_type": "code",
   "execution_count": 264,
   "metadata": {
    "ExecuteTime": {
     "end_time": "2020-03-31T15:39:24.521036Z",
     "start_time": "2020-03-31T15:39:24.296244Z"
    }
   },
   "outputs": [
    {
     "data": {
      "image/png": "[encoded data removed]",
      "text/plain": [
       "<Figure size 432x288 with 1 Axes>"
      ]
     },
     "metadata": {
      "needs_background": "light"
     },
     "output_type": "display_data"
    }
   ],
   "source": [
    "df.groupby('user_rating_ver')[['desc_awards']].mean().sort_values(by='desc_awards', ascending=False).plot(kind='barh');"
   ]
  },
  {
   "cell_type": "code",
   "execution_count": 265,
   "metadata": {
    "ExecuteTime": {
     "end_time": "2020-03-31T15:39:24.816167Z",
     "start_time": "2020-03-31T15:39:24.804093Z"
    }
   },
   "outputs": [],
   "source": [
    "df.drop('app_desc', axis=1, inplace=True)"
   ]
  },
  {
   "cell_type": "code",
   "execution_count": 179,
   "metadata": {
    "ExecuteTime": {
     "end_time": "2020-03-31T15:31:43.293154Z",
     "start_time": "2020-03-31T15:31:43.088870Z"
    }
   },
   "outputs": [],
   "source": [
    "df = df.to_csv('engineered_df.csv')"
   ]
  },
  {
   "cell_type": "markdown",
   "metadata": {},
   "source": [
    "**Future directions:** I am aware there there is lots more to do in reference to language:\n",
    "\n",
    "- Look at what topic/sentiment best predicts different catagories of apps (Maybe look at the most dominating catagory) "
   ]
  },
  {
   "cell_type": "markdown",
   "metadata": {
    "heading_collapsed": true
   },
   "source": [
    "# Store and prepare dataset "
   ]
  },
  {
   "cell_type": "code",
   "execution_count": 177,
   "metadata": {
    "ExecuteTime": {
     "end_time": "2020-03-31T15:31:35.980164Z",
     "start_time": "2020-03-31T15:31:35.925820Z"
    },
    "hidden": true
   },
   "outputs": [],
   "source": [
    "df = pd.read_csv('engineered_df', index_col=[0]).reset_index(drop=True)"
   ]
  },
  {
   "cell_type": "code",
   "execution_count": 9,
   "metadata": {
    "ExecuteTime": {
     "end_time": "2020-03-31T14:29:03.312393Z",
     "start_time": "2020-03-31T14:29:03.209717Z"
    },
    "hidden": true
   },
   "outputs": [],
   "source": [
    "objects = ['prime_genre', 'cont_rating']\n",
    "\n",
    "df = pd.concat([df.drop(objects, axis = 1),\n",
    "                pd.get_dummies(df[objects].astype(str), drop_first=True)],\n",
    "                axis = 1, sort = True)"
   ]
  },
  {
   "cell_type": "code",
   "execution_count": 10,
   "metadata": {
    "ExecuteTime": {
     "end_time": "2020-03-31T14:29:03.332685Z",
     "start_time": "2020-03-31T14:29:03.316231Z"
    },
    "hidden": true
   },
   "outputs": [],
   "source": [
    "df.dropna(inplace=True)"
   ]
  },
  {
   "cell_type": "code",
   "execution_count": 11,
   "metadata": {
    "ExecuteTime": {
     "end_time": "2020-03-31T14:29:03.377156Z",
     "start_time": "2020-03-31T14:29:03.361859Z"
    },
    "hidden": true
   },
   "outputs": [
    {
     "data": {
      "text/plain": [
       "(6028, 47)"
      ]
     },
     "execution_count": 11,
     "metadata": {},
     "output_type": "execute_result"
    }
   ],
   "source": [
    "df.shape"
   ]
  },
  {
   "cell_type": "markdown",
   "metadata": {},
   "source": [
    "# Modelling"
   ]
  },
  {
   "cell_type": "markdown",
   "metadata": {},
   "source": [
    "When information pertaining to previous user rating counts are included as features, the optimum accuracy score achieved is 70 percent (with a Gradboost). \n",
    "\n",
    "However, given the nature of this project, I have removed these and focused on the display and language features "
   ]
  },
  {
   "cell_type": "code",
   "execution_count": 12,
   "metadata": {
    "ExecuteTime": {
     "end_time": "2020-03-31T14:29:09.288222Z",
     "start_time": "2020-03-31T14:29:09.271248Z"
    }
   },
   "outputs": [],
   "source": [
    "y = df[['user_rating_ver']]\n",
    "X = df.drop(['user_rating_ver','user_rating', \n",
    "             'rating_count_ver', 'rating_count_tot'], axis=1)"
   ]
  },
  {
   "cell_type": "markdown",
   "metadata": {},
   "source": [
    "Having performed a regression, which performed poorly, I then set this as a binary classfication problem.\n",
    "\n",
    "In this case, an app which has a user rating larger than 4 is considered 'successful'."
   ]
  },
  {
   "cell_type": "code",
   "execution_count": 13,
   "metadata": {
    "ExecuteTime": {
     "end_time": "2020-03-31T14:29:11.536132Z",
     "start_time": "2020-03-31T14:29:11.528753Z"
    }
   },
   "outputs": [],
   "source": [
    "def prepare_data(X,y): \n",
    "    \n",
    "    y_binary = pd.qcut(y, 2, labels=[0,1])\n",
    "    \n",
    "    scaler = StandardScaler()\n",
    "    Xs = pd.DataFrame(scaler.fit_transform(X), columns = X.columns, index=X.index)\n",
    "    X_train, X_test, y_train, y_test = train_test_split(Xs, y_binary, \n",
    "                                                        test_size=0.2, \n",
    "                                                        random_state=1, \n",
    "                                                        stratify=y, \n",
    "                                                        shuffle=True)\n",
    "    return X_train, X_test, y_train, y_test"
   ]
  },
  {
   "cell_type": "code",
   "execution_count": 14,
   "metadata": {
    "ExecuteTime": {
     "end_time": "2020-03-31T14:29:12.775997Z",
     "start_time": "2020-03-31T14:29:12.617715Z"
    }
   },
   "outputs": [],
   "source": [
    "X_train, X_test, y_train, y_test = prepare_data(X,y['user_rating_ver'])"
   ]
  },
  {
   "cell_type": "code",
   "execution_count": 15,
   "metadata": {
    "ExecuteTime": {
     "end_time": "2020-03-31T14:29:14.750881Z",
     "start_time": "2020-03-31T14:29:14.692432Z"
    }
   },
   "outputs": [
    {
     "name": "stdout",
     "output_type": "stream",
     "text": [
      "The baseline: 0.502\n"
     ]
    }
   ],
   "source": [
    "print('The baseline: {}'.format(round(y_test.value_counts(normalize=True).max(),3)))"
   ]
  },
  {
   "cell_type": "markdown",
   "metadata": {},
   "source": [
    "### Classification "
   ]
  },
  {
   "cell_type": "markdown",
   "metadata": {},
   "source": [
    "Ran a number of different classification models "
   ]
  },
  {
   "cell_type": "code",
   "execution_count": 17,
   "metadata": {
    "ExecuteTime": {
     "end_time": "2020-03-30T17:50:07.629919Z",
     "start_time": "2020-03-30T17:49:50.463909Z"
    }
   },
   "outputs": [
    {
     "name": "stdout",
     "output_type": "stream",
     "text": [
      "K-nearest Score: 0.581\n",
      "Logistic Score: 0.593\n",
      "Random-forest Score: 0.558\n",
      "AdaBoost Score: 0.591\n",
      "Bagging Score: 0.575\n",
      "GradBoost Score: 0.6\n"
     ]
    }
   ],
   "source": [
    "def scoring_algos(model, x_train, y_train):\n",
    "    fitted_model = model.fit(x_train, y_train)\n",
    "    return cross_val_score(fitted_model, X_train, y_train, cv = 5, n_jobs = 2).mean()\n",
    "\n",
    "models = {\n",
    "    'K-nearest': KNeighborsClassifier(),\n",
    "    'Logistic': LogisticRegression(random_state = 1),\n",
    "    'Random-forest': RandomForestClassifier(random_state = 1),\n",
    "    'AdaBoost': AdaBoostClassifier(random_state=1),\n",
    "    'Bagging': BaggingClassifier(random_state=1),\n",
    "    'GradBoost': GradientBoostingClassifier(random_state=1),\n",
    "    \n",
    "}\n",
    "initial_results = { k: scoring_algos(v, X_train, y_train) for k, v in models.items() }\n",
    "\n",
    "def print_results(results):\n",
    "    for name, outputs in results.items():\n",
    "        acc = outputs\n",
    "        print('{} Score: {}'.format(\n",
    "            name,\n",
    "            round(acc, 3))\n",
    "        )\n",
    "print_results(initial_results) "
   ]
  },
  {
   "cell_type": "markdown",
   "metadata": {},
   "source": [
    "When the user rating counts are included as features"
   ]
  },
  {
   "cell_type": "code",
   "execution_count": 45,
   "metadata": {
    "ExecuteTime": {
     "end_time": "2020-03-31T14:51:14.566769Z",
     "start_time": "2020-03-31T14:51:14.555386Z"
    }
   },
   "outputs": [
    {
     "name": "stdout",
     "output_type": "stream",
     "text": [
      "K-nearest Score: 0.59      Logistic Score 0.613    Random-forest Score: 0.636    AdaBoost Score: 0.663    Bagging Score, 0.639    GradBoost Score: 0.668\n"
     ]
    }
   ],
   "source": [
    "print(\"K-nearest Score: 0.59\\\n",
    "      Logistic Score 0.613\\\n",
    "    Random-forest Score: 0.636\\\n",
    "    AdaBoost Score: 0.663\\\n",
    "    Bagging Score, 0.639\\\n",
    "    GradBoost Score: 0.668\")"
   ]
  },
  {
   "cell_type": "code",
   "execution_count": 1605,
   "metadata": {
    "ExecuteTime": {
     "end_time": "2020-03-29T16:48:33.491722Z",
     "start_time": "2020-03-29T16:48:25.174821Z"
    }
   },
   "outputs": [
    {
     "name": "stdout",
     "output_type": "stream",
     "text": [
      "K-nearest Score: 0.59\n",
      "Logistic Score: 0.613\n",
      "Random-forest Score: 0.636\n",
      "AdaBoost Score: 0.663\n",
      "Bagging Score: 0.639\n",
      "GradBoost Score: 0.668\n"
     ]
    }
   ],
   "source": [
    "print_results(initial_results) "
   ]
  },
  {
   "cell_type": "markdown",
   "metadata": {},
   "source": [
    "Gradboost (in both cases) performed the best and so now I will attempt to optimise this score "
   ]
  },
  {
   "cell_type": "code",
   "execution_count": 19,
   "metadata": {
    "ExecuteTime": {
     "end_time": "2020-03-30T17:55:20.020101Z",
     "start_time": "2020-03-30T17:52:03.361839Z"
    }
   },
   "outputs": [
    {
     "data": {
      "text/plain": [
       "GradientBoostingClassifier(criterion='friedman_mse', init=None,\n",
       "                           learning_rate=0.075, loss='deviance', max_depth=3,\n",
       "                           max_features=None, max_leaf_nodes=None,\n",
       "                           min_impurity_decrease=0.0, min_impurity_split=None,\n",
       "                           min_samples_leaf=1, min_samples_split=2,\n",
       "                           min_weight_fraction_leaf=0.0, n_estimators=100,\n",
       "                           n_iter_no_change=None, presort='auto',\n",
       "                           random_state=None, subsample=1.0, tol=0.0001,\n",
       "                           validation_fraction=0.1, verbose=0,\n",
       "                           warm_start=False)"
      ]
     },
     "execution_count": 19,
     "metadata": {},
     "output_type": "execute_result"
    }
   ],
   "source": [
    "parametersGrid = {'learning_rate': [0.01, 0.025, 0.05, 0.075, 0.1, 0.15, 0.2],\n",
    "                  \"max_depth\": [3,5,8]}\n",
    "\n",
    "\n",
    "GB = GradientBoostingClassifier()\n",
    "grid = GridSearchCV(GB, parametersGrid, scoring='accuracy', cv=5)\n",
    "grid.fit(X_train, y_train)\n",
    "grid.best_estimator_"
   ]
  },
  {
   "cell_type": "code",
   "execution_count": 20,
   "metadata": {
    "ExecuteTime": {
     "end_time": "2020-03-30T17:55:20.043002Z",
     "start_time": "2020-03-30T17:55:20.027870Z"
    }
   },
   "outputs": [
    {
     "name": "stdout",
     "output_type": "stream",
     "text": [
      "The best model achieves an accuracy score of 0.605, with parameters: {'learning_rate': 0.075, 'max_depth': 3}\n"
     ]
    }
   ],
   "source": [
    "GB_best = grid.best_estimator_\n",
    "\n",
    "print('The best model achieves an accuracy score of {}, with parameters: {}'\\\n",
    "      .format(round(grid.best_score_,3), grid.best_params_))"
   ]
  },
  {
   "cell_type": "code",
   "execution_count": 21,
   "metadata": {
    "ExecuteTime": {
     "end_time": "2020-03-30T17:56:15.293561Z",
     "start_time": "2020-03-30T17:56:15.273218Z"
    }
   },
   "outputs": [],
   "source": [
    "coef = pd.DataFrame(GB_best.feature_importances_, \n",
    "             X_train.columns, columns=['coef']).sort_values(by='coef', ascending=False)\n",
    "top_10 = coef.head(10)"
   ]
  },
  {
   "cell_type": "markdown",
   "metadata": {},
   "source": [
    "According to this model, number of available lanuguages, description length, memory (MB) and display features are important in predicting user ratings. \n",
    "\n",
    "However, there are no absolute coef given by this model AND the score is still only performing 10 percent above baseline. "
   ]
  },
  {
   "cell_type": "code",
   "execution_count": 24,
   "metadata": {
    "ExecuteTime": {
     "end_time": "2020-03-30T17:56:21.718181Z",
     "start_time": "2020-03-30T17:56:21.343773Z"
    }
   },
   "outputs": [
    {
     "data": {
      "image/png": "[encoded data removed]",
      "text/plain": [
       "<Figure size 1080x1080 with 1 Axes>"
      ]
     },
     "metadata": {
      "needs_background": "light"
     },
     "output_type": "display_data"
    }
   ],
   "source": [
    "sns.set_palette('Blues_r', n_colors=4, desat=1)\n",
    "fig, ax = plt.subplots(figsize=(15, 15))\n",
    "sns.barplot(x=top_10.index, y=top_10.coef)\n",
    "ax.set_xticklabels(top_10.index,fontdict={'fontsize': 20}, rotation=40, ha='right')\n",
    "ax.set_title('Top 10 coef')\n",
    "plt.tight_layout()\n",
    "plt.show()"
   ]
  },
  {
   "cell_type": "markdown",
   "metadata": {},
   "source": [
    "In order for absolute purposes, I will also perform a regression"
   ]
  },
  {
   "cell_type": "code",
   "execution_count": 18,
   "metadata": {
    "ExecuteTime": {
     "end_time": "2020-03-31T14:36:17.533421Z",
     "start_time": "2020-03-31T14:36:01.850835Z"
    }
   },
   "outputs": [
    {
     "name": "stdout",
     "output_type": "stream",
     "text": [
      "The best model achieves an accuracy score of 0.6, with parameters: {'C': 0.012742749857031334, 'penalty': 'l1'}\n"
     ]
    }
   ],
   "source": [
    "parametersGrid = {'C': np.logspace(-4,4,20),\n",
    "                  'penalty':['l1', 'l2']}\n",
    "\n",
    "lr = LogisticRegression(random_state=1)\n",
    "grid = GridSearchCV(lr, parametersGrid, scoring='accuracy', cv=5)\n",
    "grid.fit(X_train, y_train)\n",
    "grid.best_estimator_\n",
    "\n",
    "lr_best = grid.best_estimator_\n",
    "\n",
    "print('The best model achieves an accuracy score of {}, with parameters: {}'\\\n",
    "      .format(round(grid.best_score_,3), grid.best_params_))"
   ]
  },
  {
   "cell_type": "code",
   "execution_count": 39,
   "metadata": {
    "ExecuteTime": {
     "end_time": "2020-03-31T14:46:47.167996Z",
     "start_time": "2020-03-31T14:46:47.108787Z"
    }
   },
   "outputs": [],
   "source": [
    "coef_lr = pd.DataFrame(lr_best.coef_[0], \n",
    "             X_train.columns, columns=['coef']).sort_values(by='coef', ascending=False).reset_index()"
   ]
  },
  {
   "cell_type": "markdown",
   "metadata": {},
   "source": [
    "***INCREASE IN APP RATINGS***\n",
    "\n",
    "**The most important features appear to be screenshots on display, number of language feature, description length and whether the app is part of the gaming genre**"
   ]
  },
  {
   "cell_type": "code",
   "execution_count": 277,
   "metadata": {
    "ExecuteTime": {
     "end_time": "2020-04-01T17:30:36.642317Z",
     "start_time": "2020-04-01T17:30:35.901989Z"
    }
   },
   "outputs": [
    {
     "data": {
      "image/png": "[encoded data removed]",
      "text/plain": [
       "<Figure size 432x288 with 1 Axes>"
      ]
     },
     "metadata": {
      "needs_background": "light"
     },
     "output_type": "display_data"
    }
   ],
   "source": [
    "coef_lr.head(5).plot(kind='barh',x='index' ,y='coef', legend=False);"
   ]
  },
  {
   "cell_type": "markdown",
   "metadata": {},
   "source": [
    "***DECREASE IN APP RATINGS***\n",
    "\n",
    "**The most important features appear to be genre type (Education, entertainment...) and name length. A longer name has a negative impact on user ratings.**"
   ]
  },
  {
   "cell_type": "code",
   "execution_count": 46,
   "metadata": {
    "ExecuteTime": {
     "end_time": "2020-03-31T14:55:35.244743Z",
     "start_time": "2020-03-31T14:55:35.015406Z"
    }
   },
   "outputs": [
    {
     "data": {
      "image/png": "[encoded data removed]",
      "text/plain": [
       "<Figure size 432x288 with 1 Axes>"
      ]
     },
     "metadata": {
      "needs_background": "light"
     },
     "output_type": "display_data"
    }
   ],
   "source": [
    "coef_lr.tail(5).plot(kind='barh',x='index' ,y='coef', legend=False);"
   ]
  },
  {
   "cell_type": "markdown",
   "metadata": {},
   "source": [
    "However, a drawback to this analysis includes that as apps get bigger they get treated more unfairly with higher expectations. "
   ]
  },
  {
   "cell_type": "markdown",
   "metadata": {},
   "source": [
    "The score is pretty low and only 10 percent above baseline."
   ]
  },
  {
   "cell_type": "markdown",
   "metadata": {
    "ExecuteTime": {
     "end_time": "2020-03-31T19:30:48.786400Z",
     "start_time": "2020-03-31T19:30:48.502076Z"
    }
   },
   "source": [
    "In an attempt to optimise this further I explore recursive feature elimination"
   ]
  },
  {
   "cell_type": "code",
   "execution_count": 80,
   "metadata": {
    "ExecuteTime": {
     "end_time": "2020-03-31T15:26:45.166774Z",
     "start_time": "2020-03-31T15:26:44.780044Z"
    }
   },
   "outputs": [
    {
     "name": "stdout",
     "output_type": "stream",
     "text": [
      "0.6016175860638739\n"
     ]
    }
   ],
   "source": [
    "selector = RFE(lr_best,step=1)\n",
    "selector = selector.fit(X_train, y_train)\n",
    "print(selector.score(X_train, y_train))"
   ]
  },
  {
   "cell_type": "code",
   "execution_count": 77,
   "metadata": {
    "ExecuteTime": {
     "end_time": "2020-03-31T15:22:44.023826Z",
     "start_time": "2020-03-31T15:22:41.219515Z"
    }
   },
   "outputs": [
    {
     "name": "stdout",
     "output_type": "stream",
     "text": [
      "0.6018249688925756\n"
     ]
    }
   ],
   "source": [
    "selector = RFECV(lr_best, step=1, cv=5)\n",
    "selector = selector.fit(X_train, y_train)\n",
    "print(selector.score(X_train, y_train))"
   ]
  },
  {
   "cell_type": "markdown",
   "metadata": {
    "ExecuteTime": {
     "end_time": "2020-04-01T16:48:30.342961Z",
     "start_time": "2020-04-01T16:48:30.244109Z"
    }
   },
   "source": [
    "This still does not improve the score. "
   ]
  },
  {
   "cell_type": "markdown",
   "metadata": {},
   "source": [
    "# Conclusions and recommendations"
   ]
  },
  {
   "cell_type": "markdown",
   "metadata": {},
   "source": [
    "When running these models, it is far easier to predict ratings and the accuracy is much higher if including past ratings and counts (popularity). When not including the rating and reviews features, the Classifier peforms at 60% Accuracy. \n",
    "\n",
    "This shows that **given the Size, Type, Price, Content Rating, language features and Genre of an app, we can predict within 60% certainty if an app will have a 4+ user rating.**\n",
    "\n",
    "**For Innovation** - Developers should focus in on apps with a category of Sports, Utilities and Entertainment, as there are not many highly rated apps in these categories.\n",
    "\n",
    "**For Popularity** - Everyone building apps should consider that the Category and Genre of an app may strongly dictate if an app will be popular or not. However, the Size, Type, Price, Content Rating, description language, and name should all be used to most accurately determine if an app will gain maximum installs."
   ]
  },
  {
   "cell_type": "code",
   "execution_count": null,
   "metadata": {},
   "outputs": [],
   "source": []
  }
 ],
 "metadata": {
  "kernelspec": {
   "display_name": "Python 3",
   "language": "python",
   "name": "python3"
  },
  "language_info": {
   "codemirror_mode": {
    "name": "ipython",
    "version": 3
   },
   "file_extension": ".py",
   "mimetype": "text/x-python",
   "name": "python",
   "nbconvert_exporter": "python",
   "pygments_lexer": "ipython3",
   "version": "3.7.4"
  }
 },
 "nbformat": 4,
 "nbformat_minor": 2
}
